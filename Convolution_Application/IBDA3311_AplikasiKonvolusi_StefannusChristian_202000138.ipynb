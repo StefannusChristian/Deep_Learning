{
 "cells": [
  {
   "cell_type": "markdown",
   "metadata": {},
   "source": [
    "# Convolutional Neural Networks: Application\n",
    "\n",
    "Welcome to Course 4's second assignment! In this notebook, you will:\n",
    "\n",
    "- Create a mood classifer using the TF Keras Sequential API\n",
    "- Build a ConvNet to identify sign language digits using the TF Keras Functional API\n",
    "\n",
    "**After this assignment you will be able to:**\n",
    "\n",
    "- Build and train a ConvNet in TensorFlow for a __binary__ classification problem\n",
    "- Build and train a ConvNet in TensorFlow for a __multiclass__ classification problem\n",
    "- Explain different use cases for the Sequential and Functional APIs\n",
    "\n",
    "To complete this assignment, you should already be familiar with TensorFlow. If you are not, please refer back to the **TensorFlow Tutorial** of the third week of Course 2 (\"**Improving deep neural networks**\")."
   ]
  },
  {
   "cell_type": "markdown",
   "metadata": {},
   "source": [
    "## Table of Contents\n",
    "\n",
    "- [1 - Packages](#1)\n",
    "    - [1.1 - Load the Data and Split the Data into Train/Test Sets](#1-1)\n",
    "- [2 - Layers in TF Keras](#2)\n",
    "- [3 - The Sequential API](#3)\n",
    "    - [3.1 - Create the Sequential Model](#3-1)\n",
    "        - [Exercise 1 - happyModel](#ex-1)\n",
    "    - [3.2 - Train and Evaluate the Model](#3-2)\n",
    "- [4 - The Functional API](#4)\n",
    "    - [4.1 - Load the SIGNS Dataset](#4-1)\n",
    "    - [4.2 - Split the Data into Train/Test Sets](#4-2)\n",
    "    - [4.3 - Forward Propagation](#4-3)\n",
    "        - [Exercise 2 - convolutional_model](#ex-2)\n",
    "    - [4.4 - Train the Model](#4-4)\n",
    "- [5 - History Object](#5)\n",
    "- [6 - Bibliography](#6)"
   ]
  },
  {
   "cell_type": "markdown",
   "metadata": {},
   "source": [
    "<a name='1'></a>\n",
    "## 1 - Packages\n",
    "\n",
    "As usual, begin by loading in the packages."
   ]
  },
  {
   "cell_type": "code",
   "execution_count": 1,
   "metadata": {},
   "outputs": [],
   "source": [
    "import math\n",
    "import numpy as np\n",
    "import h5py\n",
    "import matplotlib.pyplot as plt\n",
    "from matplotlib.pyplot import imread\n",
    "import scipy\n",
    "from PIL import Image\n",
    "import pandas as pd\n",
    "import tensorflow as tf\n",
    "import tensorflow.keras.layers as tfl\n",
    "from tensorflow.python.framework import ops\n",
    "from cnn_utils import *\n",
    "from test_utils import summary, comparator\n",
    "\n",
    "%matplotlib inline\n",
    "np.random.seed(1)"
   ]
  },
  {
   "cell_type": "markdown",
   "metadata": {},
   "source": [
    "<a name='1-1'></a>\n",
    "### 1.1 - Load the Data and Split the Data into Train/Test Sets\n",
    "\n",
    "You'll be using the Happy House dataset for this part of the assignment, which contains images of peoples' faces. Your task will be to build a ConvNet that determines whether the people in the images are smiling or not -- because they only get to enter the house if they're smiling!  "
   ]
  },
  {
   "cell_type": "code",
   "execution_count": 2,
   "metadata": {},
   "outputs": [
    {
     "name": "stdout",
     "output_type": "stream",
     "text": [
      "number of training examples = 600\n",
      "number of test examples = 150\n",
      "X_train shape: (600, 64, 64, 3)\n",
      "Y_train shape: (600, 1)\n",
      "X_test shape: (150, 64, 64, 3)\n",
      "Y_test shape: (150, 1)\n"
     ]
    }
   ],
   "source": [
    "X_train_orig, Y_train_orig, X_test_orig, Y_test_orig, classes = load_happy_dataset()\n",
    "\n",
    "# Normalize image vectors\n",
    "X_train = X_train_orig/255.\n",
    "X_test = X_test_orig/255.\n",
    "\n",
    "# Reshape\n",
    "Y_train = Y_train_orig.T\n",
    "Y_test = Y_test_orig.T\n",
    "\n",
    "print (\"number of training examples = \" + str(X_train.shape[0]))\n",
    "print (\"number of test examples = \" + str(X_test.shape[0]))\n",
    "print (\"X_train shape: \" + str(X_train.shape))\n",
    "print (\"Y_train shape: \" + str(Y_train.shape))\n",
    "print (\"X_test shape: \" + str(X_test.shape))\n",
    "print (\"Y_test shape: \" + str(Y_test.shape))"
   ]
  },
  {
   "cell_type": "markdown",
   "metadata": {},
   "source": [
    "You can display the images contained in the dataset. Images are **64x64** pixels in RGB format (3 channels)."
   ]
  },
  {
   "cell_type": "code",
   "execution_count": 3,
   "metadata": {},
   "outputs": [
    {
     "data": {
      "image/png": "[encoded data removed]",
      "text/plain": [
       "<Figure size 432x288 with 1 Axes>"
      ]
     },
     "metadata": {
      "needs_background": "light"
     },
     "output_type": "display_data"
    }
   ],
   "source": [
    "index = 124\n",
    "plt.imshow(X_train_orig[index]) #display sample training image\n",
    "plt.show()"
   ]
  },
  {
   "cell_type": "markdown",
   "metadata": {},
   "source": [
    "<a name='2'></a>\n",
    "## 2 - Layers in TF Keras \n",
    "\n",
    "In the previous assignment, you created layers manually in numpy. In TF Keras, you don't have to write code directly to create layers. Rather, TF Keras has pre-defined layers you can use. \n",
    "\n",
    "When you create a layer in TF Keras, you are creating a function that takes some input and transforms it into an output you can reuse later. Nice and easy! "
   ]
  },
  {
   "cell_type": "markdown",
   "metadata": {},
   "source": [
    "<a name='3'></a>\n",
    "## 3 - The Sequential API\n",
    "\n",
    "In the previous assignment, you built helper functions using `numpy` to understand the mechanics behind convolutional neural networks. Most practical applications of deep learning today are built using programming frameworks, which have many built-in functions you can simply call. Keras is a high-level abstraction built on top of TensorFlow, which allows for even more simplified and optimized model creation and training. \n",
    "\n",
    "For the first part of this assignment, you'll create a model using TF Keras' Sequential API, which allows you to build layer by layer, and is ideal for building models where each layer has **exactly one** input tensor and **one** output tensor. \n",
    "\n",
    "As you'll see, using the Sequential API is simple and straightforward, but is only appropriate for simpler, more straightforward tasks. Later in this notebook you'll spend some time building with a more flexible, powerful alternative: the Functional API. \n",
    " "
   ]
  },
  {
   "cell_type": "markdown",
   "metadata": {},
   "source": [
    "<a name='3-1'></a>\n",
    "### 3.1 - Create the Sequential Model\n",
    "\n",
    "As mentioned earlier, the TensorFlow Keras Sequential API can be used to build simple models with layer operations that proceed in a sequential order. \n",
    "\n",
    "You can also add layers incrementally to a Sequential model with the `.add()` method, or remove them using the `.pop()` method, much like you would in a regular Python list.\n",
    "\n",
    "Actually, you can think of a Sequential model as behaving like a list of layers. Like Python lists, Sequential layers are ordered, and the order in which they are specified matters.  If your model is non-linear or contains layers with multiple inputs or outputs, a Sequential model wouldn't be the right choice!\n",
    "\n",
    "For any layer construction in Keras, you'll need to specify the input shape in advance. This is because in Keras, the shape of the weights is based on the shape of the inputs. The weights are only created when the model first sees some input data. Sequential models can be created by passing a list of layers to the Sequential constructor, like you will do in the next assignment.\n",
    "\n",
    "<a name='ex-1'></a>\n",
    "### Exercise 1 - happyModel\n",
    "\n",
    "Implement the `happyModel` function below to build the following model: `ZEROPAD2D -> CONV2D -> BATCHNORM -> RELU -> MAXPOOL -> FLATTEN -> DENSE`. Take help from [tf.keras.layers](https://www.tensorflow.org/api_docs/python/tf/keras/layers) \n",
    "\n",
    "Also, plug in the following parameters for all the steps:\n",
    "\n",
    " - [ZeroPadding2D](https://www.tensorflow.org/api_docs/python/tf/keras/layers/ZeroPadding2D): padding 3, input shape 64 x 64 x 3\n",
    " - [Conv2D](https://www.tensorflow.org/api_docs/python/tf/keras/layers/Conv2D): Use 32 7x7 filters, stride 1\n",
    " - [BatchNormalization](https://www.tensorflow.org/api_docs/python/tf/keras/layers/BatchNormalization): for axis 3\n",
    " - [ReLU](https://www.tensorflow.org/api_docs/python/tf/keras/layers/ReLU)\n",
    " - [MaxPool2D](https://www.tensorflow.org/api_docs/python/tf/keras/layers/MaxPool2D): Using default parameters\n",
    " - [Flatten](https://www.tensorflow.org/api_docs/python/tf/keras/layers/Flatten) the previous output.\n",
    " - Fully-connected ([Dense](https://www.tensorflow.org/api_docs/python/tf/keras/layers/Dense)) layer: Apply a fully connected layer with 1 neuron and a sigmoid activation. \n",
    " \n",
    " \n",
    " **Hint:**\n",
    " \n",
    " Use **tfl** as shorthand for **tensorflow.keras.layers**"
   ]
  },
  {
   "cell_type": "code",
   "execution_count": 4,
   "metadata": {
    "deletable": false,
    "nbgrader": {
     "cell_type": "code",
     "checksum": "95d28b191f257bdd5b70c7b8952559d5",
     "grade": false,
     "grade_id": "cell-0e56d3fc28b69aec",
     "locked": false,
     "schema_version": 3,
     "solution": true,
     "task": false
    }
   },
   "outputs": [],
   "source": [
    "# GRADED FUNCTION: happyModel\n",
    "\n",
    "def happyModel():\n",
    "    \"\"\"\n",
    "    Implements the forward propagation for the binary classification model:\n",
    "    ZEROPAD2D -> CONV2D -> BATCHNORM -> RELU -> MAXPOOL -> FLATTEN -> DENSE\n",
    "    \n",
    "    Note that for simplicity and grading purposes, you'll hard-code all the values\n",
    "    such as the stride and kernel (filter) sizes. \n",
    "    Normally, functions should take these values as function parameters.\n",
    "    \n",
    "    Arguments:\n",
    "    None\n",
    "\n",
    "    Returns:\n",
    "    model -- TF Keras model (object containing the information for the entire training process) \n",
    "    \"\"\"\n",
    "    model = tf.keras.Sequential([\n",
    "            ## ZeroPadding2D with padding 3, input shape of 64 x 64 x 3\n",
    "            tfl.ZeroPadding2D(padding=(3,3),input_shape=(64,64,3)),\n",
    "            ## Conv2D with 32 7x7 filters and stride of 1\n",
    "            tfl.Conv2D(32,(7,7)),\n",
    "            ## BatchNormalization for axis 3\n",
    "            tfl.BatchNormalization(axis=-1),\n",
    "            ## ReLU\n",
    "            tfl.ReLU(),\n",
    "            ## Max Pooling 2D with default parameters\n",
    "            tfl.MaxPool2D(),\n",
    "            ## Flatten layer\n",
    "            tfl.Flatten(),\n",
    "            ## Dense layer with 1 unit for output & 'sigmoid' activation\n",
    "            tfl.Dense(1,activation='sigmoid')\n",
    "            # YOUR CODE STARTS HERE\n",
    "            \n",
    "            \n",
    "            # YOUR CODE ENDS HERE\n",
    "        ])\n",
    "    \n",
    "    return model"
   ]
  },
  {
   "cell_type": "code",
   "execution_count": 5,
   "metadata": {
    "deletable": false,
    "editable": false,
    "nbgrader": {
     "cell_type": "code",
     "checksum": "8d3575c950e2e78149be2d05d671c80d",
     "grade": true,
     "grade_id": "cell-e3e1046e5c33d775",
     "locked": true,
     "points": 10,
     "schema_version": 3,
     "solution": false,
     "task": false
    }
   },
   "outputs": [
    {
     "name": "stdout",
     "output_type": "stream",
     "text": [
      "['ZeroPadding2D', (None, 70, 70, 3), 0, ((3, 3), (3, 3))]\n",
      "['Conv2D', (None, 64, 64, 32), 4736, 'valid', 'linear', 'GlorotUniform']\n",
      "['BatchNormalization', (None, 64, 64, 32), 128]\n",
      "['ReLU', (None, 64, 64, 32), 0]\n",
      "['MaxPooling2D', (None, 32, 32, 32), 0, (2, 2), (2, 2), 'valid']\n",
      "['Flatten', (None, 32768), 0]\n",
      "['Dense', (None, 1), 32769, 'sigmoid']\n",
      "\u001b[32mAll tests passed!\u001b[0m\n"
     ]
    }
   ],
   "source": [
    "happy_model = happyModel()\n",
    "# Print a summary for each layer\n",
    "for layer in summary(happy_model):\n",
    "    print(layer)\n",
    "    \n",
    "output = [['ZeroPadding2D', (None, 70, 70, 3), 0, ((3, 3), (3, 3))],\n",
    "            ['Conv2D', (None, 64, 64, 32), 4736, 'valid', 'linear', 'GlorotUniform'],\n",
    "            ['BatchNormalization', (None, 64, 64, 32), 128],\n",
    "            ['ReLU', (None, 64, 64, 32), 0],\n",
    "            ['MaxPooling2D', (None, 32, 32, 32), 0, (2, 2), (2, 2), 'valid'],\n",
    "            ['Flatten', (None, 32768), 0],\n",
    "            ['Dense', (None, 1), 32769, 'sigmoid']]\n",
    "    \n",
    "comparator(summary(happy_model), output)"
   ]
  },
  {
   "cell_type": "markdown",
   "metadata": {},
   "source": [
    "Now that your model is created, you can compile it for training with an optimizer and loss of your choice. When the string `accuracy` is specified as a metric, the type of accuracy used will be automatically converted based on the loss function used. This is one of the many optimizations built into TensorFlow that make your life easier! If you'd like to read more on how the compiler operates, check the docs [here](https://www.tensorflow.org/api_docs/python/tf/keras/Model#compile)."
   ]
  },
  {
   "cell_type": "code",
   "execution_count": 6,
   "metadata": {},
   "outputs": [],
   "source": [
    "happy_model.compile(optimizer='adam',\n",
    "                   loss='binary_crossentropy',\n",
    "                   metrics=['accuracy'])"
   ]
  },
  {
   "cell_type": "markdown",
   "metadata": {},
   "source": [
    "It's time to check your model's parameters with the `.summary()` method. This will display the types of layers you have, the shape of the outputs, and how many parameters are in each layer. "
   ]
  },
  {
   "cell_type": "code",
   "execution_count": 7,
   "metadata": {},
   "outputs": [
    {
     "name": "stdout",
     "output_type": "stream",
     "text": [
      "Model: \"sequential\"\n",
      "_________________________________________________________________\n",
      " Layer (type)                Output Shape              Param #   \n",
      "=================================================================\n",
      " zero_padding2d (ZeroPadding  (None, 70, 70, 3)        0         \n",
      " 2D)                                                             \n",
      "                                                                 \n",
      " conv2d (Conv2D)             (None, 64, 64, 32)        4736      \n",
      "                                                                 \n",
      " batch_normalization (BatchN  (None, 64, 64, 32)       128       \n",
      " ormalization)                                                   \n",
      "                                                                 \n",
      " re_lu (ReLU)                (None, 64, 64, 32)        0         \n",
      "                                                                 \n",
      " max_pooling2d (MaxPooling2D  (None, 32, 32, 32)       0         \n",
      " )                                                               \n",
      "                                                                 \n",
      " flatten (Flatten)           (None, 32768)             0         \n",
      "                                                                 \n",
      " dense (Dense)               (None, 1)                 32769     \n",
      "                                                                 \n",
      "=================================================================\n",
      "Total params: 37,633\n",
      "Trainable params: 37,569\n",
      "Non-trainable params: 64\n",
      "_________________________________________________________________\n"
     ]
    }
   ],
   "source": [
    "happy_model.summary()"
   ]
  },
  {
   "cell_type": "markdown",
   "metadata": {},
   "source": [
    "<a name='3-2'></a>\n",
    "### 3.2 - Train and Evaluate the Model\n",
    "\n",
    "After creating the model, compiling it with your choice of optimizer and loss function, and doing a sanity check on its contents, you are now ready to build! \n",
    "\n",
    "Simply call `.fit()` to train. That's it! No need for mini-batching, saving, or complex backpropagation computations. That's all been done for you, as you're using a TensorFlow dataset with the batches specified already. You do have the option to specify epoch number or minibatch size if you like (for example, in the case of an un-batched dataset)."
   ]
  },
  {
   "cell_type": "code",
   "execution_count": 8,
   "metadata": {},
   "outputs": [
    {
     "name": "stdout",
     "output_type": "stream",
     "text": [
      "Epoch 1/10\n",
      "38/38 [==============================] - 3s 72ms/step - loss: 1.6802 - accuracy: 0.6433\n",
      "Epoch 2/10\n",
      "38/38 [==============================] - 3s 68ms/step - loss: 0.2104 - accuracy: 0.9067\n",
      "Epoch 3/10\n",
      "38/38 [==============================] - 3s 69ms/step - loss: 0.1468 - accuracy: 0.9533\n",
      "Epoch 4/10\n",
      "38/38 [==============================] - 3s 68ms/step - loss: 0.1179 - accuracy: 0.9533\n",
      "Epoch 5/10\n",
      "38/38 [==============================] - 3s 68ms/step - loss: 0.1186 - accuracy: 0.9550\n",
      "Epoch 6/10\n",
      "38/38 [==============================] - 3s 67ms/step - loss: 0.0965 - accuracy: 0.9667\n",
      "Epoch 7/10\n",
      "38/38 [==============================] - 3s 69ms/step - loss: 0.0751 - accuracy: 0.9800\n",
      "Epoch 8/10\n",
      "38/38 [==============================] - 3s 69ms/step - loss: 0.1085 - accuracy: 0.9650\n",
      "Epoch 9/10\n",
      "38/38 [==============================] - 3s 73ms/step - loss: 0.0599 - accuracy: 0.9767\n",
      "Epoch 10/10\n",
      "38/38 [==============================] - 3s 72ms/step - loss: 0.0950 - accuracy: 0.9633\n"
     ]
    },
    {
     "data": {
      "text/plain": [
       "<keras.callbacks.History at 0x19ec75bbd00>"
      ]
     },
     "execution_count": 8,
     "metadata": {},
     "output_type": "execute_result"
    }
   ],
   "source": [
    "happy_model.fit(X_train, Y_train, epochs=10, batch_size=16)"
   ]
  },
  {
   "cell_type": "markdown",
   "metadata": {},
   "source": [
    "After that completes, just use `.evaluate()` to evaluate against your test set. This function will print the value of the loss function and the performance metrics specified during the compilation of the model. In this case, the `binary_crossentropy` and the `accuracy` respectively."
   ]
  },
  {
   "cell_type": "code",
   "execution_count": 9,
   "metadata": {},
   "outputs": [
    {
     "name": "stdout",
     "output_type": "stream",
     "text": [
      "5/5 [==============================] - 0s 32ms/step - loss: 0.1975 - accuracy: 0.9067\n"
     ]
    },
    {
     "data": {
      "text/plain": [
       "[0.1975463330745697, 0.9066666960716248]"
      ]
     },
     "execution_count": 9,
     "metadata": {},
     "output_type": "execute_result"
    }
   ],
   "source": [
    "happy_model.evaluate(X_test, Y_test)"
   ]
  },
  {
   "cell_type": "markdown",
   "metadata": {},
   "source": [
    "Easy, right? But what if you need to build a model with shared layers, branches, or multiple inputs and outputs? This is where Sequential, with its beautifully simple yet limited functionality, won't be able to help you. \n",
    "\n",
    "Next up: Enter the Functional API, your slightly more complex, highly flexible friend.  "
   ]
  },
  {
   "cell_type": "markdown",
   "metadata": {},
   "source": [
    "<a name='4'></a>\n",
    "## 4 - The Functional API"
   ]
  },
  {
   "cell_type": "markdown",
   "metadata": {},
   "source": [
    "Welcome to the second half of the assignment, where you'll use Keras' flexible [Functional API](https://www.tensorflow.org/guide/keras/functional) to build a ConvNet that can differentiate between 6 sign language digits. \n",
    "\n",
    "The Functional API can handle models with non-linear topology, shared layers, as well as layers with multiple inputs or outputs. Imagine that, where the Sequential API requires the model to move in a linear fashion through its layers, the Functional API allows much more flexibility. Where Sequential is a straight line, a Functional model is a graph, where the nodes of the layers can connect in many more ways than one. \n",
    "\n",
    "In the visual example below, the one possible direction of the movement Sequential model is shown in contrast to a skip connection, which is just one of the many ways a Functional model can be constructed. A skip connection, as you might have guessed, skips some layer in the network and feeds the output to a later layer in the network. Don't worry, you'll be spending more time with skip connections very soon! "
   ]
  },
  {
   "cell_type": "markdown",
   "metadata": {},
   "source": [
    "<img src=\"images/seq_vs_func.png\" style=\"width:350px;height:200px;\">"
   ]
  },
  {
   "cell_type": "markdown",
   "metadata": {},
   "source": [
    "<a name='4-1'></a>\n",
    "### 4.1 - Load the SIGNS Dataset\n",
    "\n",
    "As a reminder, the SIGNS dataset is a collection of 6 signs representing numbers from 0 to 5."
   ]
  },
  {
   "cell_type": "code",
   "execution_count": 12,
   "metadata": {},
   "outputs": [],
   "source": [
    "# Loading the data (signs)\n",
    "X_train_orig, Y_train_orig, X_test_orig, Y_test_orig, classes = load_signs_dataset()"
   ]
  },
  {
   "cell_type": "markdown",
   "metadata": {},
   "source": [
    "<img src=\"images/SIGNS.png\" style=\"width:800px;height:300px;\">\n",
    "\n",
    "The next cell will show you an example of a labelled image in the dataset. Feel free to change the value of `index` below and re-run to see different examples. "
   ]
  },
  {
   "cell_type": "code",
   "execution_count": 13,
   "metadata": {},
   "outputs": [
    {
     "name": "stdout",
     "output_type": "stream",
     "text": [
      "y = 4\n"
     ]
    },
    {
     "data": {
      "image/png": "[encoded data removed]",
      "text/plain": [
       "<Figure size 432x288 with 1 Axes>"
      ]
     },
     "metadata": {
      "needs_background": "light"
     },
     "output_type": "display_data"
    }
   ],
   "source": [
    "# Example of an image from the dataset\n",
    "index = 9\n",
    "plt.imshow(X_train_orig[index])\n",
    "print (\"y = \" + str(np.squeeze(Y_train_orig[:, index])))"
   ]
  },
  {
   "cell_type": "markdown",
   "metadata": {},
   "source": [
    "<a name='4-2'></a>\n",
    "### 4.2 - Split the Data into Train/Test Sets\n",
    "\n",
    "In Course 2, you built a fully-connected network for this dataset. But since this is an image dataset, it is more natural to apply a ConvNet to it.\n",
    "\n",
    "To get started, let's examine the shapes of your data. "
   ]
  },
  {
   "cell_type": "code",
   "execution_count": 14,
   "metadata": {},
   "outputs": [
    {
     "name": "stdout",
     "output_type": "stream",
     "text": [
      "number of training examples = 1080\n",
      "number of test examples = 120\n",
      "X_train shape: (1080, 64, 64, 3)\n",
      "Y_train shape: (1080, 6)\n",
      "X_test shape: (120, 64, 64, 3)\n",
      "Y_test shape: (120, 6)\n"
     ]
    }
   ],
   "source": [
    "X_train = X_train_orig/255.\n",
    "X_test = X_test_orig/255.\n",
    "Y_train = convert_to_one_hot(Y_train_orig, 6).T\n",
    "Y_test = convert_to_one_hot(Y_test_orig, 6).T\n",
    "print (\"number of training examples = \" + str(X_train.shape[0]))\n",
    "print (\"number of test examples = \" + str(X_test.shape[0]))\n",
    "print (\"X_train shape: \" + str(X_train.shape))\n",
    "print (\"Y_train shape: \" + str(Y_train.shape))\n",
    "print (\"X_test shape: \" + str(X_test.shape))\n",
    "print (\"Y_test shape: \" + str(Y_test.shape))"
   ]
  },
  {
   "cell_type": "markdown",
   "metadata": {},
   "source": [
    "<a name='4-3'></a>\n",
    "### 4.3 - Forward Propagation\n",
    "\n",
    "In TensorFlow, there are built-in functions that implement the convolution steps for you. By now, you should be familiar with how TensorFlow builds computational graphs. In the [Functional API](https://www.tensorflow.org/guide/keras/functional), you create a graph of layers. This is what allows such great flexibility.\n",
    "\n",
    "However, the following model could also be defined using the Sequential API since the information flow is on a single line. But don't deviate. What we want you to learn is to use the functional API.\n",
    "\n",
    "Begin building your graph of layers by creating an input node that functions as a callable object:\n",
    "\n",
    "- **input_img = tf.keras.Input(shape=input_shape):** \n",
    "\n",
    "Then, create a new node in the graph of layers by calling a layer on the `input_img` object: \n",
    "\n",
    "- **tf.keras.layers.Conv2D(filters= ... , kernel_size= ... , padding='same')(input_img):** Read the full documentation on [Conv2D](https://www.tensorflow.org/api_docs/python/tf/keras/layers/Conv2D).\n",
    "\n",
    "- **tf.keras.layers.MaxPool2D(pool_size=(f, f), strides=(s, s), padding='same'):** `MaxPool2D()` downsamples your input using a window of size (f, f) and strides of size (s, s) to carry out max pooling over each window.  For max pooling, you usually operate on a single example at a time and a single channel at a time. Read the full documentation on [MaxPool2D](https://www.tensorflow.org/api_docs/python/tf/keras/layers/MaxPool2D).\n",
    "\n",
    "- **tf.keras.layers.ReLU():** computes the elementwise ReLU of Z (which can be any shape). You can read the full documentation on [ReLU](https://www.tensorflow.org/api_docs/python/tf/keras/layers/ReLU).\n",
    "\n",
    "- **tf.keras.layers.Flatten()**: given a tensor \"P\", this function takes each training (or test) example in the batch and flattens it into a 1D vector.  \n",
    "\n",
    "    * If a tensor P has the shape (batch_size,h,w,c), it returns a flattened tensor with shape (batch_size, k), where $k=h \\times w \\times c$.  \"k\" equals the product of all the dimension sizes other than the first dimension.\n",
    "    \n",
    "    * For example, given a tensor with dimensions [100, 2, 3, 4], it flattens the tensor to be of shape [100, 24], where 24 = 2 * 3 * 4.  You can read the full documentation on [Flatten](https://www.tensorflow.org/api_docs/python/tf/keras/layers/Flatten).\n",
    "\n",
    "- **tf.keras.layers.Dense(units= ... , activation='softmax')(F):** given the flattened input F, it returns the output computed using a fully connected layer. You can read the full documentation on [Dense](https://www.tensorflow.org/api_docs/python/tf/keras/layers/Dense).\n",
    "\n",
    "In the last function above (`tf.keras.layers.Dense()`), the fully connected layer automatically initializes weights in the graph and keeps on training them as you train the model. Hence, you did not need to initialize those weights when initializing the parameters.\n",
    "\n",
    "Lastly, before creating the model, you'll need to define the output using the last of the function's compositions (in this example, a Dense layer): \n",
    "\n",
    "- **outputs = tf.keras.layers.Dense(units=6, activation='softmax')(F)**\n",
    "\n",
    "\n",
    "#### Window, kernel, filter, pool\n",
    "\n",
    "The words \"kernel\" and \"filter\" are used to refer to the same thing. The word \"filter\" accounts for the amount of \"kernels\" that will be used in a single convolution layer. \"Pool\" is the name of the operation that takes the max or average value of the kernels. \n",
    "\n",
    "This is why the parameter `pool_size` refers to `kernel_size`, and you use `(f,f)` to refer to the filter size. \n",
    "\n",
    "Pool size and kernel size refer to the same thing in different objects - They refer to the shape of the window where the operation takes place. "
   ]
  },
  {
   "cell_type": "markdown",
   "metadata": {},
   "source": [
    "<a name='ex-2'></a>\n",
    "### Exercise 2 - convolutional_model\n",
    "\n",
    "Implement the `convolutional_model` function below to build the following model: `CONV2D -> RELU -> MAXPOOL -> CONV2D -> RELU -> MAXPOOL -> FLATTEN -> DENSE`. Use the functions above! \n",
    "\n",
    "Also, plug in the following parameters for all the steps:\n",
    "\n",
    " - [Conv2D](https://www.tensorflow.org/api_docs/python/tf/keras/layers/Conv2D): Use 8 4 by 4 filters, stride 1, padding is \"SAME\"\n",
    " - [ReLU](https://www.tensorflow.org/api_docs/python/tf/keras/layers/ReLU)\n",
    " - [MaxPool2D](https://www.tensorflow.org/api_docs/python/tf/keras/layers/MaxPool2D): Use an 8 by 8 filter size and an 8 by 8 stride, padding is \"SAME\"\n",
    " - **Conv2D**: Use 16 2 by 2 filters, stride 1, padding is \"SAME\"\n",
    " - **ReLU**\n",
    " - **MaxPool2D**: Use a 4 by 4 filter size and a 4 by 4 stride, padding is \"SAME\"\n",
    " - [Flatten](https://www.tensorflow.org/api_docs/python/tf/keras/layers/Flatten) the previous output.\n",
    " - Fully-connected ([Dense](https://www.tensorflow.org/api_docs/python/tf/keras/layers/Dense)) layer: Apply a fully connected layer with 6 neurons and a softmax activation. "
   ]
  },
  {
   "cell_type": "code",
   "execution_count": 17,
   "metadata": {
    "deletable": false,
    "nbgrader": {
     "cell_type": "code",
     "checksum": "f58643806aa8380c96225fc8b4c5e7aa",
     "grade": false,
     "grade_id": "cell-dac51744a9e03f51",
     "locked": false,
     "schema_version": 3,
     "solution": true,
     "task": false
    }
   },
   "outputs": [],
   "source": [
    "# GRADED FUNCTION: convolutional_model\n",
    "\n",
    "def convolutional_model(input_shape):\n",
    "    \"\"\"\n",
    "    Implements the forward propagation for the model:\n",
    "    CONV2D -> RELU -> MAXPOOL -> CONV2D -> RELU -> MAXPOOL -> FLATTEN -> DENSE\n",
    "    \n",
    "    Note that for simplicity and grading purposes, you'll hard-code some values\n",
    "    such as the stride and kernel (filter) sizes. \n",
    "    Normally, functions should take these values as function parameters.\n",
    "    \n",
    "    Arguments:\n",
    "    input_img -- input dataset, of shape (input_shape)\n",
    "\n",
    "    Returns:\n",
    "    model -- TF Keras model (object containing the information for the entire training process) \n",
    "    \"\"\"\n",
    "\n",
    "    input_img = tf.keras.Input(shape=input_shape)\n",
    "    ## CONV2D: 8 filters 4x4, stride of 1, padding 'SAME'\n",
    "    # Z1 = None\n",
    "    ## RELU\n",
    "    # A1 = None\n",
    "    ## MAXPOOL: window 8x8, stride 8, padding 'SAME'\n",
    "    # P1 = None\n",
    "    ## CONV2D: 16 filters 2x2, stride 1, padding 'SAME'\n",
    "    # Z2 = None\n",
    "    ## RELU\n",
    "    # A2 = None\n",
    "    ## MAXPOOL: window 4x4, stride 4, padding 'SAME'\n",
    "    # P2 = None\n",
    "    ## FLATTEN\n",
    "    # F = None\n",
    "    ## Dense layer\n",
    "    ## 6 neurons in output layer. Hint: one of the arguments should be \"activation='softmax'\" \n",
    "    # outputs = None\n",
    "    # YOUR CODE STARTS HERE\n",
    "    Z1 = tfl.Conv2D(8,4,activation='linear',padding='same',strides=1)(input_img)\n",
    "    A1 = tfl.ReLU()(Z1)\n",
    "    P1 = tfl.MaxPool2D(pool_size= (8,8),strides = (8,8),padding='same')(A1) \n",
    "    Z2 = tfl.Conv2D(16,2,activation='linear',padding='same',strides=1)(P1)\n",
    "    A2 = tfl.ReLU()(Z2)\n",
    "    P2 = tfl.MaxPool2D(pool_size= (4,4),strides = (4,4),padding='same')(A2)\n",
    "    F = tfl.Flatten()(P2)\n",
    "    outputs = tfl.Dense(6,activation='softmax')(F)\n",
    "    \n",
    "    \n",
    "    # YOUR CODE ENDS HERE\n",
    "    model = tf.keras.Model(inputs=input_img, outputs=outputs)\n",
    "    return model"
   ]
  },
  {
   "cell_type": "code",
   "execution_count": 18,
   "metadata": {
    "deletable": false,
    "editable": false,
    "nbgrader": {
     "cell_type": "code",
     "checksum": "483d626949930a0b0ef20997e7c6ba72",
     "grade": true,
     "grade_id": "cell-45d22e92042174c9",
     "locked": true,
     "points": 10,
     "schema_version": 3,
     "solution": false,
     "task": false
    }
   },
   "outputs": [
    {
     "name": "stdout",
     "output_type": "stream",
     "text": [
      "Model: \"model\"\n",
      "_________________________________________________________________\n",
      " Layer (type)                Output Shape              Param #   \n",
      "=================================================================\n",
      " input_2 (InputLayer)        [(None, 64, 64, 3)]       0         \n",
      "                                                                 \n",
      " conv2d_1 (Conv2D)           (None, 64, 64, 8)         392       \n",
      "                                                                 \n",
      " re_lu_1 (ReLU)              (None, 64, 64, 8)         0         \n",
      "                                                                 \n",
      " max_pooling2d_1 (MaxPooling  (None, 8, 8, 8)          0         \n",
      " 2D)                                                             \n",
      "                                                                 \n",
      " conv2d_2 (Conv2D)           (None, 8, 8, 16)          528       \n",
      "                                                                 \n",
      " re_lu_2 (ReLU)              (None, 8, 8, 16)          0         \n",
      "                                                                 \n",
      " max_pooling2d_2 (MaxPooling  (None, 2, 2, 16)         0         \n",
      " 2D)                                                             \n",
      "                                                                 \n",
      " flatten_1 (Flatten)         (None, 64)                0         \n",
      "                                                                 \n",
      " dense_1 (Dense)             (None, 6)                 390       \n",
      "                                                                 \n",
      "=================================================================\n",
      "Total params: 1,310\n",
      "Trainable params: 1,310\n",
      "Non-trainable params: 0\n",
      "_________________________________________________________________\n",
      "\u001b[32mAll tests passed!\u001b[0m\n"
     ]
    }
   ],
   "source": [
    "conv_model = convolutional_model((64, 64, 3))\n",
    "conv_model.compile(optimizer='adam',\n",
    "                  loss='categorical_crossentropy',\n",
    "                  metrics=['accuracy'])\n",
    "conv_model.summary()\n",
    "    \n",
    "output = [['InputLayer', [(None, 64, 64, 3)], 0],\n",
    "        ['Conv2D', (None, 64, 64, 8), 392, 'same', 'linear', 'GlorotUniform'],\n",
    "        ['ReLU', (None, 64, 64, 8), 0],\n",
    "        ['MaxPooling2D', (None, 8, 8, 8), 0, (8, 8), (8, 8), 'same'],\n",
    "        ['Conv2D', (None, 8, 8, 16), 528, 'same', 'linear', 'GlorotUniform'],\n",
    "        ['ReLU', (None, 8, 8, 16), 0],\n",
    "        ['MaxPooling2D', (None, 2, 2, 16), 0, (4, 4), (4, 4), 'same'],\n",
    "        ['Flatten', (None, 64), 0],\n",
    "        ['Dense', (None, 6), 390, 'softmax']]\n",
    "    \n",
    "comparator(summary(conv_model), output)"
   ]
  },
  {
   "cell_type": "markdown",
   "metadata": {},
   "source": [
    "Both the Sequential and Functional APIs return a TF Keras model object. The only difference is how inputs are handled inside the object model! "
   ]
  },
  {
   "cell_type": "markdown",
   "metadata": {},
   "source": [
    "<a name='4-4'></a>\n",
    "### 4.4 - Train the Model"
   ]
  },
  {
   "cell_type": "code",
   "execution_count": 19,
   "metadata": {},
   "outputs": [
    {
     "name": "stdout",
     "output_type": "stream",
     "text": [
      "Epoch 1/100\n",
      "17/17 [==============================] - 2s 86ms/step - loss: 1.8268 - accuracy: 0.1648 - val_loss: 1.8004 - val_accuracy: 0.1667\n",
      "Epoch 2/100\n",
      "17/17 [==============================] - 1s 74ms/step - loss: 1.7963 - accuracy: 0.1639 - val_loss: 1.7947 - val_accuracy: 0.1667\n",
      "Epoch 3/100\n",
      "17/17 [==============================] - 1s 73ms/step - loss: 1.7923 - accuracy: 0.1676 - val_loss: 1.7913 - val_accuracy: 0.1833\n",
      "Epoch 4/100\n",
      "17/17 [==============================] - 1s 71ms/step - loss: 1.7897 - accuracy: 0.1750 - val_loss: 1.7885 - val_accuracy: 0.1750\n",
      "Epoch 5/100\n",
      "17/17 [==============================] - 1s 69ms/step - loss: 1.7872 - accuracy: 0.1944 - val_loss: 1.7863 - val_accuracy: 0.2083\n",
      "Epoch 6/100\n",
      "17/17 [==============================] - 1s 68ms/step - loss: 1.7851 - accuracy: 0.2148 - val_loss: 1.7836 - val_accuracy: 0.2250\n",
      "Epoch 7/100\n",
      "17/17 [==============================] - 1s 72ms/step - loss: 1.7820 - accuracy: 0.2361 - val_loss: 1.7815 - val_accuracy: 0.2417\n",
      "Epoch 8/100\n",
      "17/17 [==============================] - 1s 73ms/step - loss: 1.7788 - accuracy: 0.2657 - val_loss: 1.7785 - val_accuracy: 0.2417\n",
      "Epoch 9/100\n",
      "17/17 [==============================] - 1s 74ms/step - loss: 1.7739 - accuracy: 0.2889 - val_loss: 1.7734 - val_accuracy: 0.2750\n",
      "Epoch 10/100\n",
      "17/17 [==============================] - 1s 72ms/step - loss: 1.7675 - accuracy: 0.2981 - val_loss: 1.7680 - val_accuracy: 0.3167\n",
      "Epoch 11/100\n",
      "17/17 [==============================] - 1s 73ms/step - loss: 1.7605 - accuracy: 0.3204 - val_loss: 1.7586 - val_accuracy: 0.3667\n",
      "Epoch 12/100\n",
      "17/17 [==============================] - 1s 76ms/step - loss: 1.7495 - accuracy: 0.3361 - val_loss: 1.7472 - val_accuracy: 0.4417\n",
      "Epoch 13/100\n",
      "17/17 [==============================] - 1s 73ms/step - loss: 1.7369 - accuracy: 0.3500 - val_loss: 1.7309 - val_accuracy: 0.4583\n",
      "Epoch 14/100\n",
      "17/17 [==============================] - 1s 70ms/step - loss: 1.7200 - accuracy: 0.3676 - val_loss: 1.7117 - val_accuracy: 0.4833\n",
      "Epoch 15/100\n",
      "17/17 [==============================] - 1s 72ms/step - loss: 1.6961 - accuracy: 0.3972 - val_loss: 1.6889 - val_accuracy: 0.4417\n",
      "Epoch 16/100\n",
      "17/17 [==============================] - 1s 68ms/step - loss: 1.6652 - accuracy: 0.4083 - val_loss: 1.6609 - val_accuracy: 0.4167\n",
      "Epoch 17/100\n",
      "17/17 [==============================] - 1s 72ms/step - loss: 1.6254 - accuracy: 0.4463 - val_loss: 1.6285 - val_accuracy: 0.4167\n",
      "Epoch 18/100\n",
      "17/17 [==============================] - 1s 70ms/step - loss: 1.5765 - accuracy: 0.4907 - val_loss: 1.5811 - val_accuracy: 0.4667\n",
      "Epoch 19/100\n",
      "17/17 [==============================] - 1s 72ms/step - loss: 1.5172 - accuracy: 0.5380 - val_loss: 1.5118 - val_accuracy: 0.5667\n",
      "Epoch 20/100\n",
      "17/17 [==============================] - 1s 70ms/step - loss: 1.4553 - accuracy: 0.5519 - val_loss: 1.4535 - val_accuracy: 0.5500\n",
      "Epoch 21/100\n",
      "17/17 [==============================] - 1s 73ms/step - loss: 1.3893 - accuracy: 0.5685 - val_loss: 1.3898 - val_accuracy: 0.5583\n",
      "Epoch 22/100\n",
      "17/17 [==============================] - 1s 75ms/step - loss: 1.3271 - accuracy: 0.5861 - val_loss: 1.3299 - val_accuracy: 0.5583\n",
      "Epoch 23/100\n",
      "17/17 [==============================] - 1s 71ms/step - loss: 1.2689 - accuracy: 0.5926 - val_loss: 1.2771 - val_accuracy: 0.5750\n",
      "Epoch 24/100\n",
      "17/17 [==============================] - 1s 72ms/step - loss: 1.2137 - accuracy: 0.6019 - val_loss: 1.2203 - val_accuracy: 0.6000\n",
      "Epoch 25/100\n",
      "17/17 [==============================] - 1s 70ms/step - loss: 1.1601 - accuracy: 0.6231 - val_loss: 1.1681 - val_accuracy: 0.6000\n",
      "Epoch 26/100\n",
      "17/17 [==============================] - 1s 74ms/step - loss: 1.1154 - accuracy: 0.6398 - val_loss: 1.1287 - val_accuracy: 0.6083\n",
      "Epoch 27/100\n",
      "17/17 [==============================] - 1s 83ms/step - loss: 1.0712 - accuracy: 0.6593 - val_loss: 1.0869 - val_accuracy: 0.6500\n",
      "Epoch 28/100\n",
      "17/17 [==============================] - 1s 67ms/step - loss: 1.0296 - accuracy: 0.6796 - val_loss: 1.0494 - val_accuracy: 0.6500\n",
      "Epoch 29/100\n",
      "17/17 [==============================] - 1s 61ms/step - loss: 0.9937 - accuracy: 0.6981 - val_loss: 1.0171 - val_accuracy: 0.6417\n",
      "Epoch 30/100\n",
      "17/17 [==============================] - 1s 64ms/step - loss: 0.9597 - accuracy: 0.7148 - val_loss: 0.9863 - val_accuracy: 0.6583\n",
      "Epoch 31/100\n",
      "17/17 [==============================] - 1s 75ms/step - loss: 0.9276 - accuracy: 0.7222 - val_loss: 0.9568 - val_accuracy: 0.6750\n",
      "Epoch 32/100\n",
      "17/17 [==============================] - 1s 69ms/step - loss: 0.8999 - accuracy: 0.7333 - val_loss: 0.9310 - val_accuracy: 0.6917\n",
      "Epoch 33/100\n",
      "17/17 [==============================] - 1s 78ms/step - loss: 0.8732 - accuracy: 0.7398 - val_loss: 0.9073 - val_accuracy: 0.6833\n",
      "Epoch 34/100\n",
      "17/17 [==============================] - 1s 81ms/step - loss: 0.8476 - accuracy: 0.7500 - val_loss: 0.8854 - val_accuracy: 0.6917\n",
      "Epoch 35/100\n",
      "17/17 [==============================] - 1s 80ms/step - loss: 0.8239 - accuracy: 0.7519 - val_loss: 0.8659 - val_accuracy: 0.6917\n",
      "Epoch 36/100\n",
      "17/17 [==============================] - 1s 72ms/step - loss: 0.8022 - accuracy: 0.7611 - val_loss: 0.8481 - val_accuracy: 0.7083\n",
      "Epoch 37/100\n",
      "17/17 [==============================] - 1s 65ms/step - loss: 0.7828 - accuracy: 0.7648 - val_loss: 0.8318 - val_accuracy: 0.7083\n",
      "Epoch 38/100\n",
      "17/17 [==============================] - 1s 66ms/step - loss: 0.7647 - accuracy: 0.7694 - val_loss: 0.8168 - val_accuracy: 0.7250\n",
      "Epoch 39/100\n",
      "17/17 [==============================] - 1s 71ms/step - loss: 0.7478 - accuracy: 0.7731 - val_loss: 0.8027 - val_accuracy: 0.7250\n",
      "Epoch 40/100\n",
      "17/17 [==============================] - 1s 70ms/step - loss: 0.7318 - accuracy: 0.7787 - val_loss: 0.7893 - val_accuracy: 0.7250\n",
      "Epoch 41/100\n",
      "17/17 [==============================] - 1s 66ms/step - loss: 0.7172 - accuracy: 0.7889 - val_loss: 0.7771 - val_accuracy: 0.7333\n",
      "Epoch 42/100\n",
      "17/17 [==============================] - 1s 84ms/step - loss: 0.7033 - accuracy: 0.7935 - val_loss: 0.7658 - val_accuracy: 0.7333\n",
      "Epoch 43/100\n",
      "17/17 [==============================] - 2s 117ms/step - loss: 0.6904 - accuracy: 0.7972 - val_loss: 0.7548 - val_accuracy: 0.7583\n",
      "Epoch 44/100\n",
      "17/17 [==============================] - 2s 96ms/step - loss: 0.6780 - accuracy: 0.7981 - val_loss: 0.7445 - val_accuracy: 0.7583\n",
      "Epoch 45/100\n",
      "17/17 [==============================] - 1s 82ms/step - loss: 0.6656 - accuracy: 0.8019 - val_loss: 0.7350 - val_accuracy: 0.7583\n",
      "Epoch 46/100\n",
      "17/17 [==============================] - 1s 75ms/step - loss: 0.6542 - accuracy: 0.8046 - val_loss: 0.7261 - val_accuracy: 0.7583\n",
      "Epoch 47/100\n",
      "17/17 [==============================] - 1s 80ms/step - loss: 0.6434 - accuracy: 0.8056 - val_loss: 0.7177 - val_accuracy: 0.7583\n",
      "Epoch 48/100\n",
      "17/17 [==============================] - 2s 95ms/step - loss: 0.6333 - accuracy: 0.8074 - val_loss: 0.7093 - val_accuracy: 0.7583\n",
      "Epoch 49/100\n",
      "17/17 [==============================] - 2s 129ms/step - loss: 0.6236 - accuracy: 0.8083 - val_loss: 0.7012 - val_accuracy: 0.7750\n",
      "Epoch 50/100\n",
      "17/17 [==============================] - 1s 86ms/step - loss: 0.6145 - accuracy: 0.8111 - val_loss: 0.6936 - val_accuracy: 0.7750\n",
      "Epoch 51/100\n",
      "17/17 [==============================] - 2s 92ms/step - loss: 0.6057 - accuracy: 0.8139 - val_loss: 0.6862 - val_accuracy: 0.7750\n",
      "Epoch 52/100\n",
      "17/17 [==============================] - 2s 92ms/step - loss: 0.5972 - accuracy: 0.8176 - val_loss: 0.6794 - val_accuracy: 0.7750\n",
      "Epoch 53/100\n",
      "17/17 [==============================] - 1s 78ms/step - loss: 0.5893 - accuracy: 0.8194 - val_loss: 0.6729 - val_accuracy: 0.7750\n",
      "Epoch 54/100\n",
      "17/17 [==============================] - 1s 82ms/step - loss: 0.5810 - accuracy: 0.8222 - val_loss: 0.6666 - val_accuracy: 0.7667\n",
      "Epoch 55/100\n",
      "17/17 [==============================] - 1s 84ms/step - loss: 0.5736 - accuracy: 0.8250 - val_loss: 0.6604 - val_accuracy: 0.7667\n",
      "Epoch 56/100\n",
      "17/17 [==============================] - 2s 129ms/step - loss: 0.5662 - accuracy: 0.8250 - val_loss: 0.6543 - val_accuracy: 0.7667\n",
      "Epoch 57/100\n",
      "17/17 [==============================] - 2s 108ms/step - loss: 0.5589 - accuracy: 0.8269 - val_loss: 0.6485 - val_accuracy: 0.7750\n",
      "Epoch 58/100\n",
      "17/17 [==============================] - 2s 127ms/step - loss: 0.5523 - accuracy: 0.8306 - val_loss: 0.6428 - val_accuracy: 0.7750\n",
      "Epoch 59/100\n",
      "17/17 [==============================] - 2s 91ms/step - loss: 0.5456 - accuracy: 0.8361 - val_loss: 0.6366 - val_accuracy: 0.7667\n",
      "Epoch 60/100\n",
      "17/17 [==============================] - 1s 78ms/step - loss: 0.5390 - accuracy: 0.8389 - val_loss: 0.6314 - val_accuracy: 0.7583\n",
      "Epoch 61/100\n",
      "17/17 [==============================] - 1s 71ms/step - loss: 0.5329 - accuracy: 0.8417 - val_loss: 0.6257 - val_accuracy: 0.7667\n",
      "Epoch 62/100\n",
      "17/17 [==============================] - 1s 81ms/step - loss: 0.5268 - accuracy: 0.8426 - val_loss: 0.6207 - val_accuracy: 0.7667\n",
      "Epoch 63/100\n",
      "17/17 [==============================] - 2s 98ms/step - loss: 0.5210 - accuracy: 0.8463 - val_loss: 0.6157 - val_accuracy: 0.7750\n",
      "Epoch 64/100\n",
      "17/17 [==============================] - 2s 101ms/step - loss: 0.5152 - accuracy: 0.8481 - val_loss: 0.6107 - val_accuracy: 0.7833\n",
      "Epoch 65/100\n",
      "17/17 [==============================] - 2s 100ms/step - loss: 0.5097 - accuracy: 0.8481 - val_loss: 0.6062 - val_accuracy: 0.7833\n",
      "Epoch 66/100\n",
      "17/17 [==============================] - 2s 105ms/step - loss: 0.5044 - accuracy: 0.8472 - val_loss: 0.6016 - val_accuracy: 0.7750\n",
      "Epoch 67/100\n",
      "17/17 [==============================] - 2s 100ms/step - loss: 0.4990 - accuracy: 0.8481 - val_loss: 0.5971 - val_accuracy: 0.7750\n",
      "Epoch 68/100\n",
      "17/17 [==============================] - 2s 92ms/step - loss: 0.4936 - accuracy: 0.8491 - val_loss: 0.5930 - val_accuracy: 0.7833\n",
      "Epoch 69/100\n",
      "17/17 [==============================] - 2s 110ms/step - loss: 0.4884 - accuracy: 0.8500 - val_loss: 0.5890 - val_accuracy: 0.7833\n",
      "Epoch 70/100\n",
      "17/17 [==============================] - 2s 109ms/step - loss: 0.4836 - accuracy: 0.8509 - val_loss: 0.5848 - val_accuracy: 0.7833\n",
      "Epoch 71/100\n",
      "17/17 [==============================] - 2s 96ms/step - loss: 0.4788 - accuracy: 0.8528 - val_loss: 0.5808 - val_accuracy: 0.7917\n",
      "Epoch 72/100\n",
      "17/17 [==============================] - 2s 98ms/step - loss: 0.4741 - accuracy: 0.8537 - val_loss: 0.5767 - val_accuracy: 0.7917\n",
      "Epoch 73/100\n",
      "17/17 [==============================] - 2s 95ms/step - loss: 0.4694 - accuracy: 0.8556 - val_loss: 0.5727 - val_accuracy: 0.7917\n",
      "Epoch 74/100\n",
      "17/17 [==============================] - 1s 78ms/step - loss: 0.4648 - accuracy: 0.8574 - val_loss: 0.5688 - val_accuracy: 0.7917\n",
      "Epoch 75/100\n",
      "17/17 [==============================] - 1s 76ms/step - loss: 0.4604 - accuracy: 0.8593 - val_loss: 0.5648 - val_accuracy: 0.7917\n",
      "Epoch 76/100\n",
      "17/17 [==============================] - 1s 79ms/step - loss: 0.4560 - accuracy: 0.8611 - val_loss: 0.5613 - val_accuracy: 0.7917\n",
      "Epoch 77/100\n",
      "17/17 [==============================] - 1s 83ms/step - loss: 0.4517 - accuracy: 0.8593 - val_loss: 0.5572 - val_accuracy: 0.7917\n",
      "Epoch 78/100\n",
      "17/17 [==============================] - 2s 107ms/step - loss: 0.4476 - accuracy: 0.8593 - val_loss: 0.5540 - val_accuracy: 0.7917\n",
      "Epoch 79/100\n",
      "17/17 [==============================] - 2s 101ms/step - loss: 0.4433 - accuracy: 0.8602 - val_loss: 0.5504 - val_accuracy: 0.7917\n",
      "Epoch 80/100\n",
      "17/17 [==============================] - 2s 97ms/step - loss: 0.4392 - accuracy: 0.8602 - val_loss: 0.5468 - val_accuracy: 0.7917\n",
      "Epoch 81/100\n",
      "17/17 [==============================] - 2s 94ms/step - loss: 0.4356 - accuracy: 0.8611 - val_loss: 0.5434 - val_accuracy: 0.8000\n",
      "Epoch 82/100\n",
      "17/17 [==============================] - 2s 93ms/step - loss: 0.4314 - accuracy: 0.8611 - val_loss: 0.5403 - val_accuracy: 0.8000\n",
      "Epoch 83/100\n",
      "17/17 [==============================] - 2s 92ms/step - loss: 0.4277 - accuracy: 0.8602 - val_loss: 0.5372 - val_accuracy: 0.8000\n",
      "Epoch 84/100\n",
      "17/17 [==============================] - 1s 79ms/step - loss: 0.4237 - accuracy: 0.8611 - val_loss: 0.5343 - val_accuracy: 0.8000\n",
      "Epoch 85/100\n",
      "17/17 [==============================] - 1s 86ms/step - loss: 0.4200 - accuracy: 0.8620 - val_loss: 0.5312 - val_accuracy: 0.8083\n",
      "Epoch 86/100\n",
      "17/17 [==============================] - 2s 99ms/step - loss: 0.4163 - accuracy: 0.8630 - val_loss: 0.5285 - val_accuracy: 0.8167\n",
      "Epoch 87/100\n",
      "17/17 [==============================] - 1s 85ms/step - loss: 0.4126 - accuracy: 0.8639 - val_loss: 0.5256 - val_accuracy: 0.8167\n",
      "Epoch 88/100\n",
      "17/17 [==============================] - 1s 70ms/step - loss: 0.4089 - accuracy: 0.8667 - val_loss: 0.5231 - val_accuracy: 0.8167\n",
      "Epoch 89/100\n",
      "17/17 [==============================] - 1s 78ms/step - loss: 0.4054 - accuracy: 0.8676 - val_loss: 0.5203 - val_accuracy: 0.8167\n",
      "Epoch 90/100\n",
      "17/17 [==============================] - 1s 73ms/step - loss: 0.4020 - accuracy: 0.8676 - val_loss: 0.5177 - val_accuracy: 0.8167\n",
      "Epoch 91/100\n",
      "17/17 [==============================] - 1s 68ms/step - loss: 0.3985 - accuracy: 0.8685 - val_loss: 0.5148 - val_accuracy: 0.8167\n",
      "Epoch 92/100\n",
      "17/17 [==============================] - 1s 68ms/step - loss: 0.3952 - accuracy: 0.8713 - val_loss: 0.5125 - val_accuracy: 0.8167\n",
      "Epoch 93/100\n",
      "17/17 [==============================] - 1s 70ms/step - loss: 0.3923 - accuracy: 0.8713 - val_loss: 0.5096 - val_accuracy: 0.8167\n",
      "Epoch 94/100\n",
      "17/17 [==============================] - 1s 80ms/step - loss: 0.3892 - accuracy: 0.8713 - val_loss: 0.5071 - val_accuracy: 0.8167\n",
      "Epoch 95/100\n",
      "17/17 [==============================] - 1s 71ms/step - loss: 0.3862 - accuracy: 0.8713 - val_loss: 0.5042 - val_accuracy: 0.8167\n",
      "Epoch 96/100\n",
      "17/17 [==============================] - 1s 71ms/step - loss: 0.3831 - accuracy: 0.8750 - val_loss: 0.5015 - val_accuracy: 0.8167\n",
      "Epoch 97/100\n",
      "17/17 [==============================] - 1s 76ms/step - loss: 0.3803 - accuracy: 0.8769 - val_loss: 0.4987 - val_accuracy: 0.8167\n",
      "Epoch 98/100\n",
      "17/17 [==============================] - 1s 68ms/step - loss: 0.3771 - accuracy: 0.8787 - val_loss: 0.4961 - val_accuracy: 0.8167\n",
      "Epoch 99/100\n",
      "17/17 [==============================] - 1s 85ms/step - loss: 0.3743 - accuracy: 0.8787 - val_loss: 0.4934 - val_accuracy: 0.8167\n",
      "Epoch 100/100\n",
      "17/17 [==============================] - 1s 78ms/step - loss: 0.3715 - accuracy: 0.8806 - val_loss: 0.4911 - val_accuracy: 0.8167\n"
     ]
    }
   ],
   "source": [
    "train_dataset = tf.data.Dataset.from_tensor_slices((X_train, Y_train)).batch(64)\n",
    "test_dataset = tf.data.Dataset.from_tensor_slices((X_test, Y_test)).batch(64)\n",
    "history = conv_model.fit(train_dataset, epochs=100, validation_data=test_dataset)"
   ]
  },
  {
   "cell_type": "markdown",
   "metadata": {},
   "source": [
    "<a name='5'></a>\n",
    "## 5 - History Object \n",
    "\n",
    "The history object is an output of the `.fit()` operation, and provides a record of all the loss and metric values in memory. It's stored as a dictionary that you can retrieve at `history.history`: "
   ]
  },
  {
   "cell_type": "code",
   "execution_count": 20,
   "metadata": {},
   "outputs": [
    {
     "data": {
      "text/plain": [
       "{'loss': [1.8267954587936401,\n",
       "  1.7963024377822876,\n",
       "  1.7922805547714233,\n",
       "  1.7897335290908813,\n",
       "  1.7871627807617188,\n",
       "  1.7850966453552246,\n",
       "  1.7819647789001465,\n",
       "  1.7788021564483643,\n",
       "  1.7738929986953735,\n",
       "  1.7674793004989624,\n",
       "  1.7604557275772095,\n",
       "  1.749464988708496,\n",
       "  1.736894130706787,\n",
       "  1.7200453281402588,\n",
       "  1.6960622072219849,\n",
       "  1.6651504039764404,\n",
       "  1.6253753900527954,\n",
       "  1.5764539241790771,\n",
       "  1.5171682834625244,\n",
       "  1.4553239345550537,\n",
       "  1.3893457651138306,\n",
       "  1.3271124362945557,\n",
       "  1.2688515186309814,\n",
       "  1.2136739492416382,\n",
       "  1.1601399183273315,\n",
       "  1.1153630018234253,\n",
       "  1.0711722373962402,\n",
       "  1.0296075344085693,\n",
       "  0.9936528205871582,\n",
       "  0.959671139717102,\n",
       "  0.9276431798934937,\n",
       "  0.8999036550521851,\n",
       "  0.8732119798660278,\n",
       "  0.8475728631019592,\n",
       "  0.823927104473114,\n",
       "  0.8022183775901794,\n",
       "  0.7828009724617004,\n",
       "  0.7647184729576111,\n",
       "  0.7478300929069519,\n",
       "  0.7317865490913391,\n",
       "  0.7171825766563416,\n",
       "  0.7033467888832092,\n",
       "  0.6903500556945801,\n",
       "  0.6779739260673523,\n",
       "  0.6656445860862732,\n",
       "  0.6542142033576965,\n",
       "  0.6433880925178528,\n",
       "  0.633269727230072,\n",
       "  0.6236007213592529,\n",
       "  0.6144590973854065,\n",
       "  0.6056936383247375,\n",
       "  0.5972030758857727,\n",
       "  0.5892618298530579,\n",
       "  0.5810232758522034,\n",
       "  0.573569118976593,\n",
       "  0.5661579370498657,\n",
       "  0.5589429140090942,\n",
       "  0.5522987842559814,\n",
       "  0.5456293225288391,\n",
       "  0.5389964580535889,\n",
       "  0.5328625440597534,\n",
       "  0.5267601609230042,\n",
       "  0.5209552049636841,\n",
       "  0.515157163143158,\n",
       "  0.5097200870513916,\n",
       "  0.5043540596961975,\n",
       "  0.49900999665260315,\n",
       "  0.4935871958732605,\n",
       "  0.488357275724411,\n",
       "  0.48360979557037354,\n",
       "  0.47875744104385376,\n",
       "  0.474072128534317,\n",
       "  0.46938979625701904,\n",
       "  0.4647643268108368,\n",
       "  0.4603615701198578,\n",
       "  0.4559895098209381,\n",
       "  0.4516986608505249,\n",
       "  0.44756704568862915,\n",
       "  0.44327235221862793,\n",
       "  0.439177542924881,\n",
       "  0.4355812072753906,\n",
       "  0.43137484788894653,\n",
       "  0.42768043279647827,\n",
       "  0.42373061180114746,\n",
       "  0.42002156376838684,\n",
       "  0.41633546352386475,\n",
       "  0.41259926557540894,\n",
       "  0.4089258015155792,\n",
       "  0.4053587019443512,\n",
       "  0.4019564688205719,\n",
       "  0.3985197842121124,\n",
       "  0.3952476680278778,\n",
       "  0.39233317971229553,\n",
       "  0.3891860246658325,\n",
       "  0.38623347878456116,\n",
       "  0.3830886781215668,\n",
       "  0.3802805244922638,\n",
       "  0.3771475553512573,\n",
       "  0.37434446811676025,\n",
       "  0.3714723587036133],\n",
       " 'accuracy': [0.1648148149251938,\n",
       "  0.16388888657093048,\n",
       "  0.1675925999879837,\n",
       "  0.17499999701976776,\n",
       "  0.1944444477558136,\n",
       "  0.21481481194496155,\n",
       "  0.2361111044883728,\n",
       "  0.2657407522201538,\n",
       "  0.2888889014720917,\n",
       "  0.29814815521240234,\n",
       "  0.3203703761100769,\n",
       "  0.3361110985279083,\n",
       "  0.3499999940395355,\n",
       "  0.36759260296821594,\n",
       "  0.39722222089767456,\n",
       "  0.40833333134651184,\n",
       "  0.4462963044643402,\n",
       "  0.49074074625968933,\n",
       "  0.5379629731178284,\n",
       "  0.5518518686294556,\n",
       "  0.5685185194015503,\n",
       "  0.5861111283302307,\n",
       "  0.5925925970077515,\n",
       "  0.6018518805503845,\n",
       "  0.6231481432914734,\n",
       "  0.6398147940635681,\n",
       "  0.6592592597007751,\n",
       "  0.6796296238899231,\n",
       "  0.6981481313705444,\n",
       "  0.7148148417472839,\n",
       "  0.7222222089767456,\n",
       "  0.7333333492279053,\n",
       "  0.739814817905426,\n",
       "  0.75,\n",
       "  0.7518518567085266,\n",
       "  0.7611111402511597,\n",
       "  0.7648147940635681,\n",
       "  0.769444465637207,\n",
       "  0.7731481194496155,\n",
       "  0.7787036895751953,\n",
       "  0.7888888716697693,\n",
       "  0.7935185432434082,\n",
       "  0.7972221970558167,\n",
       "  0.7981481552124023,\n",
       "  0.8018518686294556,\n",
       "  0.8046296238899231,\n",
       "  0.8055555820465088,\n",
       "  0.8074073791503906,\n",
       "  0.8083333373069763,\n",
       "  0.8111110925674438,\n",
       "  0.8138889074325562,\n",
       "  0.8175926208496094,\n",
       "  0.8194444179534912,\n",
       "  0.8222222328186035,\n",
       "  0.824999988079071,\n",
       "  0.824999988079071,\n",
       "  0.8268518447875977,\n",
       "  0.8305555582046509,\n",
       "  0.8361111283302307,\n",
       "  0.8388888835906982,\n",
       "  0.8416666388511658,\n",
       "  0.8425925970077515,\n",
       "  0.8462963104248047,\n",
       "  0.8481481671333313,\n",
       "  0.8481481671333313,\n",
       "  0.8472222089767456,\n",
       "  0.8481481671333313,\n",
       "  0.8490740656852722,\n",
       "  0.8500000238418579,\n",
       "  0.8509259223937988,\n",
       "  0.8527777791023254,\n",
       "  0.8537036776542664,\n",
       "  0.855555534362793,\n",
       "  0.8574073910713196,\n",
       "  0.8592592477798462,\n",
       "  0.8611111044883728,\n",
       "  0.8592592477798462,\n",
       "  0.8592592477798462,\n",
       "  0.8601852059364319,\n",
       "  0.8601852059364319,\n",
       "  0.8611111044883728,\n",
       "  0.8611111044883728,\n",
       "  0.8601852059364319,\n",
       "  0.8611111044883728,\n",
       "  0.8620370626449585,\n",
       "  0.8629629611968994,\n",
       "  0.8638888597488403,\n",
       "  0.8666666746139526,\n",
       "  0.8675925731658936,\n",
       "  0.8675925731658936,\n",
       "  0.8685185313224792,\n",
       "  0.8712962865829468,\n",
       "  0.8712962865829468,\n",
       "  0.8712962865829468,\n",
       "  0.8712962865829468,\n",
       "  0.875,\n",
       "  0.8768518567085266,\n",
       "  0.8787037134170532,\n",
       "  0.8787037134170532,\n",
       "  0.8805555701255798],\n",
       " 'val_loss': [1.8003685474395752,\n",
       "  1.7946934700012207,\n",
       "  1.7912508249282837,\n",
       "  1.7885024547576904,\n",
       "  1.7863311767578125,\n",
       "  1.7836110591888428,\n",
       "  1.7814899682998657,\n",
       "  1.778454065322876,\n",
       "  1.7733948230743408,\n",
       "  1.7680473327636719,\n",
       "  1.7585972547531128,\n",
       "  1.7471672296524048,\n",
       "  1.7309105396270752,\n",
       "  1.711741328239441,\n",
       "  1.688927173614502,\n",
       "  1.6608985662460327,\n",
       "  1.6285427808761597,\n",
       "  1.5811017751693726,\n",
       "  1.5118257999420166,\n",
       "  1.4534950256347656,\n",
       "  1.3898231983184814,\n",
       "  1.3299347162246704,\n",
       "  1.2771496772766113,\n",
       "  1.2202765941619873,\n",
       "  1.1681370735168457,\n",
       "  1.1286766529083252,\n",
       "  1.086891770362854,\n",
       "  1.0494253635406494,\n",
       "  1.0170758962631226,\n",
       "  0.9863392114639282,\n",
       "  0.9568045139312744,\n",
       "  0.9309831857681274,\n",
       "  0.9072701334953308,\n",
       "  0.8854329586029053,\n",
       "  0.8659341335296631,\n",
       "  0.8480595946311951,\n",
       "  0.8318381905555725,\n",
       "  0.8168253302574158,\n",
       "  0.8027130961418152,\n",
       "  0.789348840713501,\n",
       "  0.7771321535110474,\n",
       "  0.7657612562179565,\n",
       "  0.754776120185852,\n",
       "  0.7444989681243896,\n",
       "  0.7350208163261414,\n",
       "  0.7260671854019165,\n",
       "  0.7177048921585083,\n",
       "  0.7093380093574524,\n",
       "  0.701171875,\n",
       "  0.6935648322105408,\n",
       "  0.6862437725067139,\n",
       "  0.6794286370277405,\n",
       "  0.6728834509849548,\n",
       "  0.6665580868721008,\n",
       "  0.6604024171829224,\n",
       "  0.6542672514915466,\n",
       "  0.6485496163368225,\n",
       "  0.642802357673645,\n",
       "  0.6365920901298523,\n",
       "  0.6314036250114441,\n",
       "  0.6257465481758118,\n",
       "  0.6207136511802673,\n",
       "  0.6156814098358154,\n",
       "  0.6106585264205933,\n",
       "  0.6062354445457458,\n",
       "  0.601605236530304,\n",
       "  0.5971373915672302,\n",
       "  0.5929822325706482,\n",
       "  0.5889892578125,\n",
       "  0.5847567319869995,\n",
       "  0.5808492302894592,\n",
       "  0.5767077803611755,\n",
       "  0.5727426409721375,\n",
       "  0.5687978267669678,\n",
       "  0.5648214817047119,\n",
       "  0.5612905025482178,\n",
       "  0.5572322607040405,\n",
       "  0.5539759993553162,\n",
       "  0.5503901839256287,\n",
       "  0.5468075275421143,\n",
       "  0.5433574914932251,\n",
       "  0.5402680039405823,\n",
       "  0.5372422337532043,\n",
       "  0.5342721343040466,\n",
       "  0.5312002897262573,\n",
       "  0.5285154581069946,\n",
       "  0.5256489515304565,\n",
       "  0.523093581199646,\n",
       "  0.5203196406364441,\n",
       "  0.5176547765731812,\n",
       "  0.5147563219070435,\n",
       "  0.5125175714492798,\n",
       "  0.5096327662467957,\n",
       "  0.5071370601654053,\n",
       "  0.5041935443878174,\n",
       "  0.5015333294868469,\n",
       "  0.498694509267807,\n",
       "  0.49608513712882996,\n",
       "  0.4934339225292206,\n",
       "  0.4911072552204132],\n",
       " 'val_accuracy': [0.1666666716337204,\n",
       "  0.1666666716337204,\n",
       "  0.18333333730697632,\n",
       "  0.17499999701976776,\n",
       "  0.2083333283662796,\n",
       "  0.22499999403953552,\n",
       "  0.24166665971279144,\n",
       "  0.24166665971279144,\n",
       "  0.2750000059604645,\n",
       "  0.3166666626930237,\n",
       "  0.36666667461395264,\n",
       "  0.4416666626930237,\n",
       "  0.4583333432674408,\n",
       "  0.4833333194255829,\n",
       "  0.4416666626930237,\n",
       "  0.4166666567325592,\n",
       "  0.4166666567325592,\n",
       "  0.46666666865348816,\n",
       "  0.5666666626930237,\n",
       "  0.550000011920929,\n",
       "  0.5583333373069763,\n",
       "  0.5583333373069763,\n",
       "  0.574999988079071,\n",
       "  0.6000000238418579,\n",
       "  0.6000000238418579,\n",
       "  0.6083333492279053,\n",
       "  0.6499999761581421,\n",
       "  0.6499999761581421,\n",
       "  0.6416666507720947,\n",
       "  0.6583333611488342,\n",
       "  0.675000011920929,\n",
       "  0.6916666626930237,\n",
       "  0.6833333373069763,\n",
       "  0.6916666626930237,\n",
       "  0.6916666626930237,\n",
       "  0.7083333134651184,\n",
       "  0.7083333134651184,\n",
       "  0.7250000238418579,\n",
       "  0.7250000238418579,\n",
       "  0.7250000238418579,\n",
       "  0.7333333492279053,\n",
       "  0.7333333492279053,\n",
       "  0.7583333253860474,\n",
       "  0.7583333253860474,\n",
       "  0.7583333253860474,\n",
       "  0.7583333253860474,\n",
       "  0.7583333253860474,\n",
       "  0.7583333253860474,\n",
       "  0.7749999761581421,\n",
       "  0.7749999761581421,\n",
       "  0.7749999761581421,\n",
       "  0.7749999761581421,\n",
       "  0.7749999761581421,\n",
       "  0.7666666507720947,\n",
       "  0.7666666507720947,\n",
       "  0.7666666507720947,\n",
       "  0.7749999761581421,\n",
       "  0.7749999761581421,\n",
       "  0.7666666507720947,\n",
       "  0.7583333253860474,\n",
       "  0.7666666507720947,\n",
       "  0.7666666507720947,\n",
       "  0.7749999761581421,\n",
       "  0.7833333611488342,\n",
       "  0.7833333611488342,\n",
       "  0.7749999761581421,\n",
       "  0.7749999761581421,\n",
       "  0.7833333611488342,\n",
       "  0.7833333611488342,\n",
       "  0.7833333611488342,\n",
       "  0.7916666865348816,\n",
       "  0.7916666865348816,\n",
       "  0.7916666865348816,\n",
       "  0.7916666865348816,\n",
       "  0.7916666865348816,\n",
       "  0.7916666865348816,\n",
       "  0.7916666865348816,\n",
       "  0.7916666865348816,\n",
       "  0.7916666865348816,\n",
       "  0.7916666865348816,\n",
       "  0.800000011920929,\n",
       "  0.800000011920929,\n",
       "  0.800000011920929,\n",
       "  0.800000011920929,\n",
       "  0.8083333373069763,\n",
       "  0.8166666626930237,\n",
       "  0.8166666626930237,\n",
       "  0.8166666626930237,\n",
       "  0.8166666626930237,\n",
       "  0.8166666626930237,\n",
       "  0.8166666626930237,\n",
       "  0.8166666626930237,\n",
       "  0.8166666626930237,\n",
       "  0.8166666626930237,\n",
       "  0.8166666626930237,\n",
       "  0.8166666626930237,\n",
       "  0.8166666626930237,\n",
       "  0.8166666626930237,\n",
       "  0.8166666626930237,\n",
       "  0.8166666626930237]}"
      ]
     },
     "execution_count": 20,
     "metadata": {},
     "output_type": "execute_result"
    }
   ],
   "source": [
    "history.history"
   ]
  },
  {
   "cell_type": "markdown",
   "metadata": {},
   "source": [
    "Now visualize the loss over time using `history.history`: "
   ]
  },
  {
   "cell_type": "code",
   "execution_count": 21,
   "metadata": {},
   "outputs": [
    {
     "name": "stderr",
     "output_type": "stream",
     "text": [
      "c:\\Users\\Lenovo\\AppData\\Local\\Programs\\Python\\Python310\\lib\\site-packages\\pandas\\core\\frame.py:5039: SettingWithCopyWarning: \n",
      "A value is trying to be set on a copy of a slice from a DataFrame\n",
      "\n",
      "See the caveats in the documentation: https://pandas.pydata.org/pandas-docs/stable/user_guide/indexing.html#returning-a-view-versus-a-copy\n",
      "  return super().rename(\n"
     ]
    },
    {
     "data": {
      "text/plain": [
       "[Text(0.5, 0, 'Epoch'), Text(0, 0.5, 'Accuracy')]"
      ]
     },
     "execution_count": 21,
     "metadata": {},
     "output_type": "execute_result"
    },
    {
     "data": {
      "image/png": "[encoded data removed]",
      "text/plain": [
       "<Figure size 864x576 with 1 Axes>"
      ]
     },
     "metadata": {
      "needs_background": "light"
     },
     "output_type": "display_data"
    },
    {
     "data": {
      "image/png": "[encoded data removed]",
      "text/plain": [
       "<Figure size 864x576 with 1 Axes>"
      ]
     },
     "metadata": {
      "needs_background": "light"
     },
     "output_type": "display_data"
    }
   ],
   "source": [
    "# The history.history[\"loss\"] entry is a dictionary with as many values as epochs that the\n",
    "# model was trained on. \n",
    "df_loss_acc = pd.DataFrame(history.history)\n",
    "df_loss= df_loss_acc[['loss','val_loss']]\n",
    "df_loss.rename(columns={'loss':'train','val_loss':'validation'},inplace=True)\n",
    "df_acc= df_loss_acc[['accuracy','val_accuracy']]\n",
    "df_acc.rename(columns={'accuracy':'train','val_accuracy':'validation'},inplace=True)\n",
    "df_loss.plot(title='Model loss',figsize=(12,8)).set(xlabel='Epoch',ylabel='Loss')\n",
    "df_acc.plot(title='Model Accuracy',figsize=(12,8)).set(xlabel='Epoch',ylabel='Accuracy')"
   ]
  },
  {
   "cell_type": "markdown",
   "metadata": {},
   "source": [
    "**Congratulations**! You've finished the assignment and built two models: One that recognizes  smiles, and another that recognizes SIGN language with almost 80% accuracy on the test set. In addition to that, you now also understand the applications of two Keras APIs: Sequential and Functional. Nicely done! \n",
    "\n",
    "By now, you know a bit about how the Functional API works and may have glimpsed the possibilities. In your next assignment, you'll really get a feel for its power when you get the opportunity to build a very deep ConvNet, using ResNets! "
   ]
  },
  {
   "cell_type": "markdown",
   "metadata": {},
   "source": [
    "<a name='6'></a>\n",
    "## 6 - Bibliography\n",
    "\n",
    "You're always encouraged to read the official documentation. To that end, you can find the docs for the Sequential and Functional APIs here: \n",
    "\n",
    "https://www.tensorflow.org/guide/keras/sequential_model\n",
    "\n",
    "https://www.tensorflow.org/guide/keras/functional"
   ]
  }
 ],
 "metadata": {
  "coursera": {
   "course_slug": "convolutional-neural-networks",
   "graded_item_id": "bwbJV",
   "launcher_item_id": "0TkXB"
  },
  "kernelspec": {
   "display_name": "Python 3.10.0 64-bit",
   "language": "python",
   "name": "python3"
  },
  "language_info": {
   "codemirror_mode": {
    "name": "ipython",
    "version": 3
   },
   "file_extension": ".py",
   "mimetype": "text/x-python",
   "name": "python",
   "nbconvert_exporter": "python",
   "pygments_lexer": "ipython3",
   "version": "3.10.0"
  },
  "vscode": {
   "interpreter": {
    "hash": "8c3d4d9970fc5c09c50d9318a9c7fbf4d0159e4b28833276f5678ee22bded273"
   }
  }
 },
 "nbformat": 4,
 "nbformat_minor": 2
}
