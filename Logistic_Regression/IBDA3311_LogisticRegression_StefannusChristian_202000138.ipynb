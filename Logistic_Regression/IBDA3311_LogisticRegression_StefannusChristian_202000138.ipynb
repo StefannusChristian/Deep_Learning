{
 "cells": [
  {
   "cell_type": "markdown",
   "metadata": {},
   "source": [
    "# Logistic Regression dengan mindset Neural Network\n",
    "\n",
    "Selamat mengerjakan tugas programming pertama Anda di dalam kelas IBDA3311 Deep Learning! Anda akan membuat sebuah logistic regression classifier untuk mengenali kucing. Tugas ini akan membantu Anda melalui langkah-langkah yang akan memberikan intuisi terkait dengan deep learning.\n",
    "\n",
    "**Instruksi:**\n",
    "- Jangan menggunakan loops (for/while) di dalam kode Anda kecuali diminta untuk melakukan hal tersebut\n",
    "- Gunakan `np.dot(X,Y)` untuk menghitung dot products.\n",
    "\n",
    "**Anda akan mempelajari:**\n",
    "- Membangun arsitektur umum dari algoritma pembelajaran, meliputi:\n",
    "    - Inisialisasi parameter\n",
    "    - Menghitung cost function dan nilai gradiennya\n",
    "    - Menggunakan algoritma optimasi (gradient descent)\n",
    "- Menyatukan tiga fungsi di atas menjadi suatu fungsi model"
   ]
  },
  {
   "cell_type": "markdown",
   "metadata": {},
   "source": [
    "## Tabel Konten\n",
    "- [1 - Packages](#1)\n",
    "- [2 - Gambaran umum permasalahan](#2)\n",
    "    - [Latihan 1](#ex-1)\n",
    "    - [Latihan 2](#ex-2)\n",
    "- [3 - Arsitektur umum algoritma pembelajaran](#3)\n",
    "- [4 - Membangun komponen algoritma pembelajaran](#4)\n",
    "    - [4.1 - Helper functions](#4-1)\n",
    "        - [Latihan 3 - sigmoid](#ex-3)\n",
    "    - [4.2 - Inisialisasi parameter](#4-2)\n",
    "        - [Latihan 4 - inisialisasi dengan zeros](#ex-4)\n",
    "    - [4.3 - Forward and Backward propagation](#4-3)\n",
    "        - [Latihan 5 - propagate](#ex-5)\n",
    "    - [4.4 - Optimisasi](#4-4)\n",
    "        - [Latihan 6 - optimasi](#ex-6)\n",
    "        - [Latihan 7 - prediksi](#ex-7)\n",
    "- [5 - Gabungkan semua function menjadi model](#5)\n",
    "    - [Latihan 8 - model](#ex-8)\n",
    "- [6 - Analisa lebih jauh (optional/tidak dinilai)](#6)\n",
    "- [7 - Tes dengan gambar Anda sendiri (optional/tidak dinilai)](#7)"
   ]
  },
  {
   "cell_type": "markdown",
   "metadata": {},
   "source": [
    "<a name='1'></a>\n",
    "## 1 - Packages ##\n",
    "Pertama, jalankan cell di bawah ini untuk memanggil semua packages yang diperlukan di dalam penugasan ini\n",
    "\n",
    "- [numpy](https://numpy.org/doc/1.20/) merupakan package dasar untuk melakukan komputasi saintifik di dalam Python\n",
    "- [h5py](http://www.h5py.org) merupakan package untuk interaksi dengan dataset yang diletakkan di dalam H5 file\n",
    "- [matplotlib](http://matplotlib.org) adalah library untuk plot gambar di dalam Python\n",
    "- [PIL](https://pillow.readthedocs.io/en/stable/) and [scipy](https://www.scipy.org/) digunakan untuk menguji model dengan gambar milik sendiri di akhir dari file ini"
   ]
  },
  {
   "cell_type": "code",
   "execution_count": 4,
   "metadata": {},
   "outputs": [
    {
     "name": "stdout",
     "output_type": "stream",
     "text": [
      "The autoreload extension is already loaded. To reload it, use:\n",
      "  %reload_ext autoreload\n"
     ]
    }
   ],
   "source": [
    "import numpy as np\n",
    "import copy\n",
    "import matplotlib.pyplot as plt\n",
    "import h5py\n",
    "import scipy\n",
    "from PIL import Image\n",
    "from scipy import ndimage\n",
    "\n",
    "%matplotlib inline\n",
    "%load_ext autoreload\n",
    "%autoreload 2"
   ]
  },
  {
   "cell_type": "code",
   "execution_count": 5,
   "metadata": {},
   "outputs": [],
   "source": [
    "\n",
    "def load_dataset():\n",
    "    train_dataset = h5py.File('datasets/train_catvnoncat.h5', \"r\")\n",
    "    # your train set features\n",
    "    train_set_x_orig = np.array(train_dataset[\"train_set_x\"][:])\n",
    "    train_set_y_orig = np.array(\n",
    "        train_dataset[\"train_set_y\"][:])  # your train set labels\n",
    "\n",
    "    test_dataset = h5py.File('datasets/test_catvnoncat.h5', \"r\")\n",
    "    # your test set features\n",
    "    test_set_x_orig = np.array(test_dataset[\"test_set_x\"][:])\n",
    "    test_set_y_orig = np.array(\n",
    "        test_dataset[\"test_set_y\"][:])  # your test set labels\n",
    "\n",
    "    classes = np.array(test_dataset[\"list_classes\"][:])  # the list of classes\n",
    "\n",
    "    train_set_y_orig = train_set_y_orig.reshape((1, train_set_y_orig.shape[0]))\n",
    "    test_set_y_orig = test_set_y_orig.reshape((1, test_set_y_orig.shape[0]))\n",
    "\n",
    "    return train_set_x_orig, train_set_y_orig, test_set_x_orig, test_set_y_orig, classes\n",
    "\n",
    "from termcolor import colored\n",
    "import numpy as np\n",
    "\n",
    "def sigmoid_test(sigmoid):\n",
    "    if sigmoid(np.array([0,2]))[0] == 0.5 and sigmoid(np.array([0,2]))[1] == 0.8807970779778823:\n",
    "        print(colored('Selamat! Jawaban Anda benar', 'green'))\n",
    "    else:\n",
    "        print(colored('Jawaban Anda masih salah', 'red'))\n",
    "\t\t\n",
    "def initialize_with_zeros_test(initialize_with_zeros):\n",
    "\tw, b = initialize_with_zeros(2)\n",
    "\tif str(w.shape) == '(2, 1)' and w[0] == np.array([0.]) and w[1] == np.array([0.]) and b == 0.0:\n",
    "\t\tprint(colored('Selamat! Jawaban Anda benar', 'green'))\n",
    "\telse:\n",
    "\t\tprint(colored('Jawaban Anda masih salah', 'red'))\n",
    "\t\t\n",
    "def propagate_test(propagate):\n",
    "\tw =  np.array([[1.], [2]])\n",
    "\tb = 1.5\n",
    "\tX = np.array([[1., -2., -1.], [3., 0.5, -3.2]])\n",
    "\tY = np.array([[1, 1, 0]])\n",
    "\tgrads, cost = propagate(w, b, X, Y)\n",
    "\t\n",
    "\tif grads[\"dw\"][0][0] == 0.2507153166184082 and grads[\"dw\"][1][0] == -0.06604096325829123 and grads[\"db\"] == -0.1250040450043965:\n",
    "\t\tprint(colored('Selamat! Jawaban Anda benar', 'green'))\n",
    "\telse:\n",
    "\t\tprint(colored('Jawaban Anda masih salah', 'red'))\n",
    "\t\t\n",
    "def optimize_test(optimize):\n",
    "    w =  np.array([[1.], [2]])\n",
    "    b = 1.5\n",
    "    X = np.array([[1., -2., -1.], [3., 0.5, -3.2]])\n",
    "    Y = np.array([[1, 1, 0]])\n",
    "    \n",
    "    params, grads, costs = optimize(w, b, X, Y, num_iterations=100, learning_rate=0.009, print_cost=False)\n",
    "    \n",
    "    check_params = \"{'w': array([[0.80956046],\\n       [2.0508202 ]]), 'b': 1.5948713189708588}\"\n",
    "    check_grads = \"{'dw': array([[ 0.17860505],\\n       [-0.04840656]]), 'db': -0.08888460336847771}\"\n",
    "    check_costs = \"[array(0.15900538)]\"\n",
    "        \n",
    "    if str(params) == check_params and str(grads) == check_grads and str(costs) == check_costs:\n",
    "        print(colored('Selamat! Jawaban Anda benar', 'green'))\n",
    "    else:\n",
    "        print(colored('Jawaban Anda masih salah', 'red'))        \n",
    "\n",
    "def predict_test(predict):\n",
    "    w = np.array([[0.1124579], [0.23106775]])\n",
    "    b = -0.3\n",
    "    X = np.array([[1., -1.1, -3.2],[1.2, 2., 0.1]])\n",
    "    \n",
    "    check_predict = '[[1. 1. 0.]]'\n",
    "        \n",
    "    if str(predict(w, b, X)) == check_predict :\n",
    "        print(colored('Selamat! Jawaban Anda benar', 'green'))\n",
    "    else:\n",
    "        print(colored('Jawaban Anda masih salah', 'red'))        \n",
    "\t\t\n",
    "def model_test(model):\n",
    "\tcheck_model = '<function'\n",
    "\tif str(model)[0:9] == check_model:\n",
    "\t\tprint(colored('Selamat! Jawaban Anda benar', 'green'))\n",
    "\telse:\n",
    "\t\tprint(colored('Jawaban Anda masih salah', 'red'))   \t\t"
   ]
  },
  {
   "cell_type": "markdown",
   "metadata": {},
   "source": [
    "<a name='2'></a>\n",
    "## 2 - Gambaran Umum Permasalahan ##\n",
    "\n",
    "**Permasalahan**: Anda diberikan dataset (\"data.h5\"), yang berisikan:\n",
    "    - sebuah data training set dari gambar sejumlah m_train berisikan cat (y=1) atau non-cat (y=0)\n",
    "    - sebuah test set dari gambar sejumlah m_test dengan label cat atau non-cat\n",
    "    - setiap gambar memiliki bentuk (num_px, num_px, 3) di mana 3 menyatakan 3 jenis warna (RGB). Sehingga, setiap gambar berbentuk kotak (panjang = num_px) dan (lebar = num_px)\n",
    "\n",
    "Anda akan membangun sebuah algoritma untuk deteksi gambar sederhana yang dapat mengklasifikasikan gambar sebagai cat atau non-cat.\n",
    "\n",
    "Mari kita berkenalan lebih jauh dengan dataset. Panggil dataset dengan menjalankan kode berikut ini."
   ]
  },
  {
   "cell_type": "code",
   "execution_count": 6,
   "metadata": {},
   "outputs": [],
   "source": [
    "# Loading the data (cat/non-cat)\n",
    "train_set_x_orig, train_set_y, test_set_x_orig, test_set_y, classes = load_dataset()"
   ]
  },
  {
   "cell_type": "markdown",
   "metadata": {},
   "source": [
    "Kita perlu menambahkan \"_orig\" di akhir image datasets (train dan test) karena kita akan melakukan preprocess. Setelah itu, baru kita akan kita hilangkan.\n",
    "\n",
    "Setiap baris dari train_set_x_orig dan test_set_x_orig adalah representasi gambar dalam array. Anda dapat memvisualisasikan dengan menggunakan kode di bawah ini. Dengan mengganti nilai `index` kita bisa mengganti gambarnya."
   ]
  },
  {
   "cell_type": "code",
   "execution_count": 7,
   "metadata": {},
   "outputs": [
    {
     "name": "stdout",
     "output_type": "stream",
     "text": [
      "y = [1], it's a 'cat' picture.\n"
     ]
    },
    {
     "data": {
      "image/png": "[encoded data removed]",
      "text/plain": [
       "<Figure size 432x288 with 1 Axes>"
      ]
     },
     "metadata": {
      "needs_background": "light"
     },
     "output_type": "display_data"
    }
   ],
   "source": [
    "# Example of a picture\n",
    "index = 25\n",
    "plt.imshow(train_set_x_orig[index])\n",
    "print (\"y = \" + str(train_set_y[:, index]) + \", it's a '\" + classes[np.squeeze(train_set_y[:, index])].decode(\"utf-8\") +  \"' picture.\")"
   ]
  },
  {
   "cell_type": "markdown",
   "metadata": {},
   "source": [
    "Banyak software bugs di dalam deep learning terjadi karena memiliki matrix/vector dengan dimensi yang tidak pas. Jika Anda dapat menjaga ukuran matrix/vector agar semuanya serupa, maka Anda sudah satu langkah lebih jauh di dalam mengeliminasi bugs yang mungkin terjadi.\n",
    "\n",
    "<a name='ex-1'></a>\n",
    "### Soal 1\n",
    "Carilah nilai dari:\n",
    "    - m_train (jumlah data training)\n",
    "    - m_test (jumlah data test)\n",
    "    - num_px (= lebar = tinggi dari data training)\n",
    "Ingat bahwa `train_set_x_orig` adalah numpy-array dengan ukuran (m_train, num_px, num_px, 3). For instance, you can access `m_train` dengan menuliskan `train_set_x_orig.shape[0]`."
   ]
  },
  {
   "cell_type": "code",
   "execution_count": 8,
   "metadata": {
    "deletable": false,
    "nbgrader": {
     "cell_type": "code",
     "checksum": "921fe679a632ec7ec9963069fa405725",
     "grade": false,
     "grade_id": "cell-c4e7e9c1f174eb83",
     "locked": false,
     "schema_version": 3,
     "solution": true,
     "task": false
    }
   },
   "outputs": [
    {
     "name": "stdout",
     "output_type": "stream",
     "text": [
      "Number of training examples: m_train = 209\n",
      "Number of testing examples: m_test = 50\n",
      "Height/Width of each image: num_px = 64\n",
      "Each image is of size: (64, 64, 3)\n",
      "train_set_x shape: (209, 64, 64, 3)\n",
      "train_set_y shape: (1, 209)\n",
      "test_set_x shape: (50, 64, 64, 3)\n",
      "test_set_y shape: (1, 50)\n"
     ]
    }
   ],
   "source": [
    "#(kurang lebih diperlukan 3 baris kode untuk menyelesaikan soal ini)\n",
    "# m_train = \n",
    "# m_test = \n",
    "# num_px = \n",
    "# KODE ANDA DIMULAI SETELAH BARIS INI\n",
    "m_train = train_set_x_orig.shape[0]\n",
    "m_test = test_set_x_orig.shape[0]\n",
    "num_px = test_set_x_orig.shape[1]\n",
    "assert m_train == 209\n",
    "assert m_test == 50\n",
    "assert num_px == 64 \n",
    "\n",
    "\n",
    "# KODE ANDA BERAKHIR SEBELUM BARIS INI\n",
    "\n",
    "print (\"Number of training examples: m_train = \" + str(m_train))\n",
    "print (\"Number of testing examples: m_test = \" + str(m_test))\n",
    "print (\"Height/Width of each image: num_px = \" + str(num_px))\n",
    "print (\"Each image is of size: (\" + str(num_px) + \", \" + str(num_px) + \", 3)\")\n",
    "print (\"train_set_x shape: \" + str(train_set_x_orig.shape))\n",
    "print (\"train_set_y shape: \" + str(train_set_y.shape))\n",
    "print (\"test_set_x shape: \" + str(test_set_x_orig.shape))\n",
    "print (\"test_set_y shape: \" + str(test_set_y.shape))"
   ]
  },
  {
   "cell_type": "markdown",
   "metadata": {},
   "source": [
    "**Ekspektasi keluaran dari m_train, m_test and num_px**: \n",
    "<table style=\"width:15%\">\n",
    "  <tr>\n",
    "    <td> m_train </td>\n",
    "    <td> 209 </td> \n",
    "  </tr>\n",
    "  \n",
    "  <tr>\n",
    "    <td>m_test</td>\n",
    "    <td> 50 </td> \n",
    "  </tr>\n",
    "  \n",
    "  <tr>\n",
    "    <td>num_px</td>\n",
    "    <td> 64 </td> \n",
    "  </tr>\n",
    "  \n",
    "</table>\n"
   ]
  },
  {
   "cell_type": "markdown",
   "metadata": {},
   "source": [
    "Untuk kenyamanan, Anda harus mengubah ukuran gambar (num_px, num_px, 3) ke dalam bentuk numpy-array (num_px $*$ num_px $*$ 3, 1). Setelah ini, data training (dan test) kita akan menjadi numpy array yang setiap kolomnya merepresentasikan gambar yang sudah diflattened (diratakan). Akan ada m_train (dan m_test) kolom pada data Anda.\n",
    "\n",
    "<a name='ex-2'></a>\n",
    "### Soal 2\n",
    "Ubah training dan test data sets sehingga gambar dengan ukuran (num_px, num_px, 3) diflattened menjadi sebuah vektor dengan ukuran (num\\_px $*$ num\\_px $*$ 3, 1).\n",
    "\n",
    "Sebuah trik yang dapat Anda gunakan untuk mem-flatten matriks X dengan ukuran (a,b,c,d) menjadi bentuk (b$*$c$*$d, a) adalah dengan menggunakan:\n",
    "```python\n",
    "X_flatten = X.reshape(X.shape[0], -1).T      # X.T is the transpose of X\n",
    "```"
   ]
  },
  {
   "cell_type": "code",
   "execution_count": 9,
   "metadata": {
    "deletable": false,
    "nbgrader": {
     "cell_type": "code",
     "checksum": "5a2aa62bdd8c01450111b758ef159aec",
     "grade": false,
     "grade_id": "cell-0f43921062c34e50",
     "locked": false,
     "schema_version": 3,
     "solution": true,
     "task": false
    }
   },
   "outputs": [
    {
     "name": "stdout",
     "output_type": "stream",
     "text": [
      "train_set_x_flatten shape: (12288, 209)\n",
      "train_set_y shape: (1, 209)\n",
      "test_set_x_flatten shape: (12288, 50)\n",
      "test_set_y shape: (1, 50)\n"
     ]
    }
   ],
   "source": [
    "# Reshape the training and test examples\n",
    "#(kurang lebih diperlukan 2 baris kode untuk menyelesaikan soal ini)\n",
    "# train_set_x_flatten = ...\n",
    "# test_set_x_flatten = ...\n",
    "# KODE ANDA DIMULAI SETELAH BARIS INI\n",
    "train_set_x_flatten = train_set_x_orig.reshape(train_set_x_orig.shape[0],-1).T\n",
    "test_set_x_flatten = test_set_x_orig.reshape(test_set_x_orig.shape[0],-1).T\n",
    "\n",
    "\n",
    "# KODE ANDA BERAKHIR SEBELUM BARIS INI\n",
    "\n",
    "# Cek apakah 10 pixels pertama dari gambar kedua berada di dalam lokasi yang tepat\n",
    "assert np.alltrue(train_set_x_flatten[0:10, 1] == [196, 192, 190, 193, 186, 182, 188, 179, 174, 213]), \"Wrong solution. Use (X.shape[0], -1).T.\"\n",
    "assert np.alltrue(test_set_x_flatten[0:10, 1] == [115, 110, 111, 137, 129, 129, 155, 146, 145, 159]), \"Wrong solution. Use (X.shape[0], -1).T.\"\n",
    "\n",
    "print (\"train_set_x_flatten shape: \" + str(train_set_x_flatten.shape))\n",
    "print (\"train_set_y shape: \" + str(train_set_y.shape))\n",
    "print (\"test_set_x_flatten shape: \" + str(test_set_x_flatten.shape))\n",
    "print (\"test_set_y shape: \" + str(test_set_y.shape))"
   ]
  },
  {
   "cell_type": "markdown",
   "metadata": {},
   "source": [
    "**Keluaran yang diharapkan**: \n",
    "\n",
    "<table style=\"width:35%\">\n",
    "  <tr>\n",
    "    <td>train_set_x_flatten shape</td>\n",
    "    <td> (12288, 209)</td> \n",
    "  </tr>\n",
    "  <tr>\n",
    "    <td>train_set_y shape</td>\n",
    "    <td>(1, 209)</td> \n",
    "  </tr>\n",
    "  <tr>\n",
    "    <td>test_set_x_flatten shape</td>\n",
    "    <td>(12288, 50)</td> \n",
    "  </tr>\n",
    "  <tr>\n",
    "    <td>test_set_y shape</td>\n",
    "    <td>(1, 50)</td> \n",
    "  </tr>\n",
    "</table>"
   ]
  },
  {
   "cell_type": "markdown",
   "metadata": {},
   "source": [
    "Untuk merepresentasikan warna gambar, nilai (RGB) harus dispesifikasikan untuk setiap pixel, jadi nilai dari pixel adalah vektor berisikan 3 buah angka dengan nilai dari 0 sampai dengan 255.\n",
    "\n",
    "Satu langkah preprocessing umum di dalam pembelajaran mesin adalah untuk menstrandarisasi dataset, berarti kita akan mengekstrak nilai rata-rata dari keseluruhan dataset lalu membaginya dengan nilai standar deviasi dari keseluruhan dataset. Untuk dataset gambar, akan lebih mudah dengan membagi setiap baris dari dataset dengan nilai 255 (nilai maksimum dari sebuah pixel)\n",
    "\n",
    "<!-- Selamat melatih mode, Anda akan mengalikan bobot dan menambahkan bias pada beberapa inputs dengan tujuan untuk mengobservasi fungsi aktivasi pada neuron. Lalu Anda akan melakukan backpropagation dengan gradients untuk melatih model. Teteapi, sangat penting untuk memastikan setiap fitur gambar memiliki nilai yang serupa sehingga gradient yang kita hitung tidak menjadi besar secara tiba-tiba. Anda akan memahami lebih detail mengenai hal ini di dalam materi perkuliahan.\n",
    "!--> \n",
    "\n",
    "Mari kita standarisasi dataset kita."
   ]
  },
  {
   "cell_type": "code",
   "execution_count": 10,
   "metadata": {},
   "outputs": [],
   "source": [
    "train_set_x = train_set_x_flatten / 255.\n",
    "test_set_x = test_set_x_flatten / 255."
   ]
  },
  {
   "cell_type": "markdown",
   "metadata": {},
   "source": [
    "<font color='white'>\n",
    "    \n",
    "    \n",
    "**Hal yang perlu Anda ingat!:**\n",
    "Langkah umum untuk melakukan pre-processing dataset baru adalah:\n",
    "- Mencari tahu dimensi dan ukuran dari masalah yang mau diselesaikan (m_train, m_test, num_px, ..)\n",
    "- Ubah bentuk dataset sehingga menjadi vektor dengan ukuran (num_px \\* num_px \\* 3, 1)\n",
    "- \"Standarisasi\" data"
   ]
  },
  {
   "cell_type": "markdown",
   "metadata": {},
   "source": [
    "<a name='3'></a>\n",
    "## 3 - Arsitektur Umum Algoritma Pembelajaran ##\n",
    "\n",
    "Sekarang adalah waktunya untuk mendesain algoritma sederhana untuk membedakan gambar cat dan non-cat.\n",
    "\n",
    "Anda akan membuat Logistic Regression, menggunakan Neural Network. Gambar berikut menjelaskan mengapa **Logistic Regression merupakan Neural Network dengan bentuk sangat sederhana!**\n",
    "\n",
    "<img src=\"images/LogReg_kiank.png\" style=\"width:650px;height:400px;\">\n",
    "\n",
    "**Expresi Matematika dari algoritma**:\n",
    "\n",
    "Sebagai contoh $x^{(i)}$:\n",
    "$$z^{(i)} = w^T x^{(i)} + b \\tag{1}$$\n",
    "$$\\hat{y}^{(i)} = a^{(i)} = sigmoid(z^{(i)})\\tag{2}$$ \n",
    "$$ \\mathcal{L}(a^{(i)}, y^{(i)}) =  - y^{(i)}  \\log(a^{(i)}) - (1-y^{(i)} )  \\log(1-a^{(i)})\\tag{3}$$\n",
    "\n",
    "Nilai cost lalu dihitung dengan menjumlahkan semua data training:\n",
    "$$ J = \\frac{1}{m} \\sum_{i=1}^m \\mathcal{L}(a^{(i)}, y^{(i)})\\tag{6}$$\n",
    "\n",
    "**Langkah kunci**:\n",
    "Di dalam soal ini, Anda akan melakukan langkah-langkah berikut:\n",
    "    - Inisialisasi nilai parameter dari model\n",
    "    - Lakukan proses pembelajaran nilai parameter pada model dengan meminimalisasi cost\n",
    "    - Gunakan nilai parameter hasil pembelajaran untuk membuat prediksi (pada test set)\n",
    "    - Analisa hasil dan buat kesimpulan"
   ]
  },
  {
   "cell_type": "markdown",
   "metadata": {},
   "source": [
    "<a name='4'></a>\n",
    "## 4 - Membangun Komponen Algoritma Pembelajaran ## \n",
    "\n",
    "Langkah utama di dalam membangun Neural Network adalah:\n",
    "1. Definisikan struktur model (seperti jumlah input features)\n",
    "2. Inisialisasi parameter model\n",
    "3. Loop:\n",
    "    - Hitung current loss (forward propagation)\n",
    "    - Hitung current gradient (backward propagation)\n",
    "    - Update nilai parameter (gradient descent)\n",
    "\n",
    "Anda akan membangun langkah 1-3 secara terpisah lalu menggabungkannya menjadi sebuah fungsi yang kita beri nama `model()`.\n",
    "\n",
    "<a name='4-1'></a>\n",
    "### 4.1 - Helper functions\n",
    "\n",
    "<a name='ex-3'></a>\n",
    "### Soal 3 - sigmoid\n",
    "Sebagaimana gambar yang Anda lihat di atas, Anda perlu untuk menghitung $sigmoid(z) = \\frac{1}{1 + e^{-z}}$ for $z = w^T x + b$ untuk membuat prediksi. Gunakan np.exp()."
   ]
  },
  {
   "cell_type": "code",
   "execution_count": 11,
   "metadata": {
    "deletable": false,
    "nbgrader": {
     "cell_type": "code",
     "checksum": "239ab1cf1028b721fd14f31b8103c40d",
     "grade": false,
     "grade_id": "cell-520521c430352f3b",
     "locked": false,
     "schema_version": 3,
     "solution": true,
     "task": false
    }
   },
   "outputs": [],
   "source": [
    "# GRADED FUNCTION: sigmoid\n",
    "\n",
    "def sigmoid(z):\n",
    "    \"\"\"\n",
    "    Compute the sigmoid of z\n",
    "\n",
    "    Arguments:\n",
    "    z -- A scalar or numpy array of any size.\n",
    "\n",
    "    Return:\n",
    "    s -- sigmoid(z)\n",
    "    \"\"\"\n",
    "\n",
    "    #(kurang lebih diperlukan 1 baris kode untuk menyelesaikan soal ini)\n",
    "    # s = ...\n",
    "    # KODE ANDA DIMULAI SETELAH BARIS INI\n",
    "    s = 1 / (1+(np.exp(-z)))\n",
    "\n",
    "    # KODE ANDA BERAKHIR SEBELUM BARIS INI\n",
    "    \n",
    "    return s"
   ]
  },
  {
   "cell_type": "code",
   "execution_count": 12,
   "metadata": {
    "deletable": false,
    "editable": false,
    "nbgrader": {
     "cell_type": "code",
     "checksum": "0483e6820669111a9c5914d8b24bc315",
     "grade": true,
     "grade_id": "cell-30ea3151cab9c491",
     "locked": true,
     "points": 10,
     "schema_version": 3,
     "solution": false,
     "task": false
    }
   },
   "outputs": [
    {
     "name": "stdout",
     "output_type": "stream",
     "text": [
      "sigmoid([0, 2]) = [0.5        0.88079708]\n",
      "\u001b[32mSelamat! Jawaban Anda benar\u001b[0m\n"
     ]
    }
   ],
   "source": [
    "print (\"sigmoid([0, 2]) = \" + str(sigmoid(np.array([0,2]))))\n",
    "\n",
    "sigmoid_test(sigmoid)"
   ]
  },
  {
   "cell_type": "code",
   "execution_count": 13,
   "metadata": {},
   "outputs": [
    {
     "name": "stdout",
     "output_type": "stream",
     "text": [
      "[0.62245933 0.5        0.88079708]\n"
     ]
    }
   ],
   "source": [
    "x = np.array([0.5, 0, 2.0])\n",
    "output = sigmoid(x)\n",
    "print(output)"
   ]
  },
  {
   "cell_type": "markdown",
   "metadata": {},
   "source": [
    "<a name='4-2'></a>\n",
    "### 4.2 - Inisialisasi Parameter\n",
    "\n",
    "<a name='ex-4'></a>\n",
    "### Soal 4 - Inisialisasi dengan zeros\n",
    "Implementasikan inisialisasi parameter dari cell di bawah. Anda perlu menginisialisasi w sebagai vektor bernilai 0. Jika Anda tidak tahu fungsi numpy apa yang digunakan, lihat penjelasan np.zeros() pada dokumentasi Numpy di internet."
   ]
  },
  {
   "cell_type": "code",
   "execution_count": 14,
   "metadata": {
    "deletable": false,
    "nbgrader": {
     "cell_type": "code",
     "checksum": "c4a37e375a85ddab7274a33abf46bb7c",
     "grade": false,
     "grade_id": "cell-befa9335e479864e",
     "locked": false,
     "schema_version": 3,
     "solution": true,
     "task": false
    }
   },
   "outputs": [],
   "source": [
    "# GRADED FUNCTION: initialize_with_zeros\n",
    "\n",
    "def initialize_with_zeros(dim):\n",
    "    \"\"\"\n",
    "    This function creates a vector of zeros of shape (dim, 1) for w and initializes b to 0.\n",
    "    \n",
    "    Argument:\n",
    "    dim -- size of the w vector we want (or number of parameters in this case)\n",
    "    \n",
    "    Returns:\n",
    "    w -- initialized vector of shape (dim, 1)\n",
    "    b -- initialized scalar (corresponds to the bias) of type float\n",
    "    \"\"\"\n",
    "    \n",
    "    #(kurang lebih diperlukan 2 baris kode untuk menyelesaikan soal ini)\n",
    "    # w = ...\n",
    "    # b = ...\n",
    "    # KODE ANDA DIMULAI SETELAH BARIS INI\n",
    "    w = np.zeros(dim).reshape(dim,1)\n",
    "    b = float(0)\n",
    "\n",
    "\n",
    "    # KODE ANDA BERAKHIR SEBELUM BARIS INI\n",
    "\n",
    "    return w, b"
   ]
  },
  {
   "cell_type": "code",
   "execution_count": 15,
   "metadata": {
    "deletable": false,
    "editable": false,
    "nbgrader": {
     "cell_type": "code",
     "checksum": "a1f856df8b35b664982b6e4ca82681cf",
     "grade": true,
     "grade_id": "cell-a3b6699f145f3a3f",
     "locked": true,
     "points": 10,
     "schema_version": 3,
     "solution": false,
     "task": false
    }
   },
   "outputs": [
    {
     "name": "stdout",
     "output_type": "stream",
     "text": [
      "w = [[0.]\n",
      " [0.]]\n",
      "b = 0.0\n",
      "\u001b[32mSelamat! Jawaban Anda benar\u001b[0m\n"
     ]
    }
   ],
   "source": [
    "dim = 2\n",
    "w, b = initialize_with_zeros(dim)\n",
    "\n",
    "assert type(b) == float\n",
    "print (\"w = \" + str(w))\n",
    "print (\"b = \" + str(b))\n",
    "\n",
    "initialize_with_zeros_test(initialize_with_zeros)"
   ]
  },
  {
   "cell_type": "markdown",
   "metadata": {},
   "source": [
    "<a name='4-3'></a>\n",
    "### 4.3 - Forward and Backward propagation\n",
    "\n",
    "Sekarang setelah nilai parameter diinisialisasi, Anda dapat melakukan \"forward\" dan \"backward\" propagation di dalam proses learning dari parameters.\n",
    "\n",
    "<a name='ex-5'></a>\n",
    "### Exercise 5 - propagate\n",
    "Implementasikan fungsi `propagate()` yang menghitung cost function dan nilai gradiennya. \n",
    "\n",
    "**Petunjuk**:\n",
    "\n",
    "Forward Propagation:\n",
    "- Anda dapat X\n",
    "- Anda hitung $A = \\sigma(w^T X + b) = (a^{(1)}, a^{(2)}, ..., a^{(m-1)}, a^{(m)})$\n",
    "- Anda hitung cost function: $J = -\\frac{1}{m}\\sum_{i=1}^{m}(y^{(i)}\\log(a^{(i)})+(1-y^{(i)})\\log(1-a^{(i)}))$\n",
    "\n",
    "Ada dua formula yang akan Anda gunakan: \n",
    "\n",
    "$$ \\frac{\\partial J}{\\partial w} = \\frac{1}{m}X(A-Y)^T\\tag{7}$$\n",
    "$$ \\frac{\\partial J}{\\partial b} = \\frac{1}{m} \\sum_{i=1}^m (a^{(i)}-y^{(i)})\\tag{8}$$"
   ]
  },
  {
   "cell_type": "code",
   "execution_count": 16,
   "metadata": {
    "deletable": false,
    "nbgrader": {
     "cell_type": "code",
     "checksum": "8c7fa5fd813679d86ba0032de1f813eb",
     "grade": false,
     "grade_id": "cell-11af17e28077b3d3",
     "locked": false,
     "schema_version": 3,
     "solution": true,
     "task": false
    }
   },
   "outputs": [],
   "source": [
    "# GRADED FUNCTION: propagate\n",
    "\n",
    "def propagate(w, b, X, Y):\n",
    "    \"\"\"\n",
    "    Implement the cost function and its gradient for the propagation explained above\n",
    "\n",
    "    Arguments:\n",
    "    w -- weights, a numpy array of size (num_px * num_px * 3, 1)\n",
    "    b -- bias, a scalar\n",
    "    X -- data of size (num_px * num_px * 3, number of examples)\n",
    "    Y -- true \"label\" vector (containing 0 if non-cat, 1 if cat) of size (1, number of examples)\n",
    "\n",
    "    Return:\n",
    "    cost -- negative log-likelihood cost for logistic regression\n",
    "    dw -- gradient of the loss with respect to w, thus same shape as w\n",
    "    db -- gradient of the loss with respect to b, thus same shape as b\n",
    "    \n",
    "    Tips:\n",
    "    - Write your code step by step for the propagation. np.log(), np.dot()\n",
    "    \"\"\"\n",
    "    \n",
    "    m = X.shape[1]\n",
    "    \n",
    "    # FORWARD PROPAGATION (FROM X TO COST)\n",
    "    #(kurang lebih diperlukan 2 baris kode untuk menyelesaikan soal ini)\n",
    "    # hitung nilai aktivasi\n",
    "    # A = ...\n",
    "    # hitung cost menggunakan np.dot. Jangan gunakan loops untuk menghitung sum\n",
    "    # cost = ...                                \n",
    "    # KODE ANDA DIMULAI SETELAH BARIS INI\n",
    "    A = sigmoid(np.dot(w.T,X)+b)\n",
    "    cost = (-1/m)*np.sum(np.dot(Y,np.log(A).T)+np.dot((1-Y),np.log(1-A).T))\n",
    "\n",
    "    # KODE ANDA BERAKHIR SEBELUM BARIS INI\n",
    "\n",
    "    # BACKWARD PROPAGATION (TO FIND GRAD)\n",
    "    #(kurang lebih diperlukan 2 baris kode untuk menyelesaikan soal ini)\n",
    "    # dw = ...\n",
    "    # db = ...\n",
    "    # KODE ANDA DIMULAI SETELAH BARIS INI\n",
    "    dw = (1/m)*np.dot(X,(A-Y).T)\n",
    "    db = (1/m)*np.sum(A - Y)\n",
    "\n",
    "\n",
    "    # KODE ANDA BERAKHIR SEBELUM BARIS INI\n",
    "    cost = np.squeeze(np.array(cost))\n",
    "\n",
    "    \n",
    "    grads = {\"dw\": dw,\n",
    "             \"db\": db}\n",
    "    \n",
    "    return grads, cost"
   ]
  },
  {
   "cell_type": "code",
   "execution_count": 17,
   "metadata": {
    "deletable": false,
    "editable": false,
    "nbgrader": {
     "cell_type": "code",
     "checksum": "b8a1a4b1ff8d70ac609d721490b4d826",
     "grade": true,
     "grade_id": "cell-d1594d75b61dd554",
     "locked": true,
     "points": 10,
     "schema_version": 3,
     "solution": false,
     "task": false
    }
   },
   "outputs": [
    {
     "name": "stdout",
     "output_type": "stream",
     "text": [
      "dw = [[ 0.25071532]\n",
      " [-0.06604096]]\n",
      "db = -0.1250040450043965\n",
      "cost = 0.15900537707692405\n",
      "\u001b[32mSelamat! Jawaban Anda benar\u001b[0m\n"
     ]
    }
   ],
   "source": [
    "w =  np.array([[1.], [2]])\n",
    "b = 1.5\n",
    "X = np.array([[1., -2., -1.], [3., 0.5, -3.2]])\n",
    "Y = np.array([[1, 1, 0]])\n",
    "grads, cost = propagate(w, b, X, Y)\n",
    "\n",
    "assert type(grads[\"dw\"]) == np.ndarray\n",
    "assert grads[\"dw\"].shape == (2, 1)\n",
    "assert type(grads[\"db\"]) == np.float64\n",
    "\n",
    "\n",
    "print (\"dw = \" + str(grads[\"dw\"]))\n",
    "print (\"db = \" + str(grads[\"db\"]))\n",
    "print (\"cost = \" + str(cost))\n",
    "\n",
    "propagate_test(propagate)"
   ]
  },
  {
   "cell_type": "markdown",
   "metadata": {},
   "source": [
    "**Ekspektasi output**\n",
    "\n",
    "```\n",
    "dw = [[ 0.25071532]\n",
    " [-0.06604096]]\n",
    "db = -0.1250040450043965\n",
    "cost = 0.15900537707692405\n",
    "```"
   ]
  },
  {
   "cell_type": "markdown",
   "metadata": {},
   "source": [
    "<a name='4-4'></a>\n",
    "### 4.4 - Optimasi\n",
    "- Anda sudah menginisialisasi nilai parameters.\n",
    "- Anda sudah bisa menghitung cost function dan nilai gradiennya.\n",
    "- Sekarang, Anda mau mengupdate nilai parameter dengan menggunakan gradient descent.\n",
    "\n",
    "<a name='ex-6'></a>\n",
    "### Soal 6 - optimasi\n",
    "Tuliskan fungsi optimisasi. Tujuannya adalah melatih $w$ dan $b$ dengan meminimalkan cost function $J$. Untuk nilai parameter $\\theta$, formula untuk update nilai adalah $ \\theta = \\theta - \\alpha \\text{ } d\\theta$, di mana $\\alpha$ adalah learning rate."
   ]
  },
  {
   "cell_type": "code",
   "execution_count": 18,
   "metadata": {
    "deletable": false,
    "nbgrader": {
     "cell_type": "code",
     "checksum": "49d9b4c1a780bf141c8eb48e06cbb494",
     "grade": false,
     "grade_id": "cell-616d6883e807448d",
     "locked": false,
     "schema_version": 3,
     "solution": true,
     "task": false
    }
   },
   "outputs": [],
   "source": [
    "# GRADED FUNCTION: optimize\n",
    "\n",
    "def optimize(w, b, X, Y, num_iterations=100, learning_rate=0.009, print_cost=False):\n",
    "    \"\"\"\n",
    "    This function optimizes w and b by running a gradient descent algorithm\n",
    "    \n",
    "    Arguments:\n",
    "    w -- weights, a numpy array of size (num_px * num_px * 3, 1)\n",
    "    b -- bias, a scalar\n",
    "    X -- data of shape (num_px * num_px * 3, number of examples)\n",
    "    Y -- true \"label\" vector (containing 0 if non-cat, 1 if cat), of shape (1, number of examples)\n",
    "    num_iterations -- number of iterations of the optimization loop\n",
    "    learning_rate -- learning rate of the gradient descent update rule\n",
    "    print_cost -- True to print the loss every 100 steps\n",
    "    \n",
    "    Returns:\n",
    "    params -- dictionary containing the weights w and bias b\n",
    "    grads -- dictionary containing the gradients of the weights and bias with respect to the cost function\n",
    "    costs -- list of all the costs computed during the optimization, this will be used to plot the learning curve.\n",
    "    \n",
    "    Tips:\n",
    "    You basically need to write down two steps and iterate through them:\n",
    "        1) Calculate the cost and the gradient for the current parameters. Use propagate().\n",
    "        2) Update the parameters using gradient descent rule for w and b.\n",
    "    \"\"\"\n",
    "    \n",
    "    w = copy.deepcopy(w)\n",
    "    b = copy.deepcopy(b)\n",
    "    \n",
    "    costs = []\n",
    "    \n",
    "    for i in range(num_iterations):\n",
    "        \n",
    "        grads, cost = propagate(w, b, X, Y)\n",
    "        # Retrieve derivatives from grads\n",
    "        dw = grads[\"dw\"]\n",
    "        db = grads[\"db\"]\n",
    "        \n",
    "        # update rule (kurang lebih diperlukan 2 baris kode untuk menyelesaikan soal ini)\n",
    "        # w = ...\n",
    "        # b = ...\n",
    "        # KODE ANDA DIMULAI SETELAH BARIS INI\n",
    "        w-=learning_rate*dw\n",
    "        b-=learning_rate*db\n",
    "\n",
    "\n",
    "        # KODE ANDA BERAKHIR SEBELUM BARIS INI\n",
    "        \n",
    "        # Record the costs\n",
    "        if i % 100 == 0:\n",
    "            costs.append(cost)\n",
    "        \n",
    "            # Print the cost every 100 training iterations\n",
    "            if print_cost:\n",
    "                print (\"Cost after iteration %i: %f\" %(i, cost))\n",
    "    \n",
    "    params = {\"w\": w,\n",
    "              \"b\": b}\n",
    "    \n",
    "    grads = {\"dw\": dw,\n",
    "             \"db\": db}\n",
    "    \n",
    "    return params, grads, costs"
   ]
  },
  {
   "cell_type": "code",
   "execution_count": 19,
   "metadata": {
    "deletable": false,
    "editable": false,
    "nbgrader": {
     "cell_type": "code",
     "checksum": "b65a5c90f86a990614156e41f64b4678",
     "grade": true,
     "grade_id": "cell-8e3d43fbb82a8901",
     "locked": true,
     "points": 10,
     "schema_version": 3,
     "solution": false,
     "task": false
    }
   },
   "outputs": [
    {
     "name": "stdout",
     "output_type": "stream",
     "text": [
      "w = [[0.80956046]\n",
      " [2.0508202 ]]\n",
      "b = 1.5948713189708588\n",
      "dw = [[ 0.17860505]\n",
      " [-0.04840656]]\n",
      "db = -0.08888460336847771\n",
      "Costs = [array(0.15900538)]\n",
      "\u001b[32mSelamat! Jawaban Anda benar\u001b[0m\n"
     ]
    }
   ],
   "source": [
    "params, grads, costs = optimize(w, b, X, Y, num_iterations=100, learning_rate=0.009, print_cost=False)\n",
    "\n",
    "print (\"w = \" + str(params[\"w\"]))\n",
    "print (\"b = \" + str(params[\"b\"]))\n",
    "print (\"dw = \" + str(grads[\"dw\"]))\n",
    "print (\"db = \" + str(grads[\"db\"]))\n",
    "print(\"Costs = \" + str(costs))\n",
    "\n",
    "optimize_test(optimize)"
   ]
  },
  {
   "cell_type": "markdown",
   "metadata": {},
   "source": [
    "<a name='ex-7'></a>\n",
    "### Soal 7 - predict\n",
    "Fungsi pada cell di atas akan memberikan keluaran berupa nilai w dan b yang sudah diupdate. Kita bisa menggunakan nilai baru w dan b ini untuk meprediksi label dari dataset X. Implementasikan fungsi `predict()`. Ada dua langkah yang diperlukan untuk menghitung prediksi:\n",
    "\n",
    "1. Kalkulasi $\\hat{Y} = A = \\sigma(w^T X + b)$\n",
    "\n",
    "2. Jika nilai aktivasi <= 0.5 maka beri nilai 0 lalu jika nilai aktivasi > 0.5 beri nilai 1, lalu simpan hasil prediksi di dalam vektor `Y_prediction`. Jika Anda ingin, anda dapat menggunakan pernyataan `if`/`else` di dalam `for` loop"
   ]
  },
  {
   "cell_type": "code",
   "execution_count": 20,
   "metadata": {
    "deletable": false,
    "nbgrader": {
     "cell_type": "code",
     "checksum": "e56419b97ebf382a8f93ac2873988887",
     "grade": false,
     "grade_id": "cell-d6f924f49c51dc2f",
     "locked": false,
     "schema_version": 3,
     "solution": true,
     "task": false
    }
   },
   "outputs": [],
   "source": [
    "# GRADED FUNCTION: predict\n",
    "\n",
    "def predict(w, b, X):\n",
    "    '''\n",
    "    Predict whether the label is 0 or 1 using learned logistic regression parameters (w, b)\n",
    "    \n",
    "    Arguments:\n",
    "    w -- weights, a numpy array of size (num_px * num_px * 3, 1)\n",
    "    b -- bias, a scalar\n",
    "    X -- data of size (num_px * num_px * 3, number of examples)\n",
    "    \n",
    "    Returns:\n",
    "    Y_prediction -- a numpy array (vector) containing all predictions (0/1) for the examples in X\n",
    "    '''\n",
    "    \n",
    "    m = X.shape[1]\n",
    "    Y_prediction = np.zeros((1, m))\n",
    "    w = w.reshape(X.shape[0], 1)\n",
    "\n",
    "    # Compute vector \"A\" predicting the probabilities of a cat being present in the picture\n",
    "    #(kurang lebih diperlukan 1 baris kode untuk menyelesaikan soal ini)\n",
    "    # A = ...\n",
    "    # KODE ANDA DIMULAI SETELAH BARIS INI\n",
    "    A = sigmoid(np.dot(w.T,X)+b)\n",
    "\n",
    "\n",
    "    # KODE ANDA BERAKHIR SEBELUM BARIS INI\n",
    "    \n",
    "    for i in range(A.shape[1]):\n",
    "        \n",
    "        # Convert probabilities A[0,i] to actual predictions p[0,i]\n",
    "        #(≈ 4 lines of code)\n",
    "        # if A[0, i] > ____ :\n",
    "        #     Y_prediction[0,i] = \n",
    "        # else:\n",
    "        #     Y_prediction[0,i] = \n",
    "        # KODE ANDA DIMULAI SETELAH BARIS INI\n",
    "        if A[0,i] <= 0.5:\n",
    "            Y_prediction[0,i] = 0\n",
    "        else:\n",
    "            Y_prediction[0,i] = 1\n",
    "\n",
    "\n",
    "        # KODE ANDA BERAKHIR SEBELUM BARIS INI\n",
    "    \n",
    "    return Y_prediction"
   ]
  },
  {
   "cell_type": "code",
   "execution_count": 21,
   "metadata": {
    "deletable": false,
    "editable": false,
    "nbgrader": {
     "cell_type": "code",
     "checksum": "e3ea12608f15798d542a07c1bc9f561b",
     "grade": true,
     "grade_id": "cell-90b1fb967269548c",
     "locked": true,
     "points": 10,
     "schema_version": 3,
     "solution": false,
     "task": false
    }
   },
   "outputs": [
    {
     "name": "stdout",
     "output_type": "stream",
     "text": [
      "predictions = [[1. 1. 0.]]\n",
      "\u001b[32mSelamat! Jawaban Anda benar\u001b[0m\n"
     ]
    }
   ],
   "source": [
    "w = np.array([[0.1124579], [0.23106775]])\n",
    "b = -0.3\n",
    "X = np.array([[1., -1.1, -3.2],[1.2, 2., 0.1]])\n",
    "print (\"predictions = \" + str(predict(w, b, X)))\n",
    "\n",
    "predict_test(predict)"
   ]
  },
  {
   "cell_type": "markdown",
   "metadata": {},
   "source": [
    "<font color='white'>\n",
    "    \n",
    "**Hal yang perlu diingat:**\n",
    "\n",
    "Anda sudah berhasil megnimplementasikan beberapa fungsi:\n",
    "- Inisialisasi (w,b)\n",
    "- Optimisasi nilai loss secara iteratif untuk melakukan proses pembelajaran parameter (w,b):\n",
    "    - Menghitung cost dan gradiennya\n",
    "    - Mengupdate nilai parameter dengan menggunakan gradient descent\n",
    "- Menggunakan nilai (w,b) yang sudah diupdate untuk memprediksi label dari sekumpulan set contoh"
   ]
  },
  {
   "cell_type": "markdown",
   "metadata": {},
   "source": [
    "<a name='5'></a>\n",
    "## 5 - Gabungkan semua Fungsi menjadi model ##\n",
    "\n",
    "Anda akan melihat bagaimana keseluruhan model dapat dibentuk dengan menggabungkan semua blok bangun dari fungsi yang sudah dibuat dengan urutan yang tepat.\n",
    "\n",
    "<a name='ex-8'></a>\n",
    "### Soal 8 - model\n",
    "Implementasikan fungsi model. Gunakan notasi berikut:\n",
    "    - Y_prediction_test untuk prediksi Anda terhadap test set\n",
    "    - Y_prediction_train untuk prediksi Anda terhadap train set\n",
    "    - parameters, grads, costs untuk keluaran dari optimize()"
   ]
  },
  {
   "cell_type": "code",
   "execution_count": 22,
   "metadata": {
    "deletable": false,
    "nbgrader": {
     "cell_type": "code",
     "checksum": "f23cca6cfb750397e5d2ac44977e2c2a",
     "grade": false,
     "grade_id": "cell-6dcba5967c4cbf8c",
     "locked": false,
     "schema_version": 3,
     "solution": true,
     "task": false
    }
   },
   "outputs": [],
   "source": [
    "\n",
    "# GRADED FUNCTION: model\n",
    "\n",
    "def model(X_train, Y_train, X_test, Y_test, num_iterations=2000, learning_rate=0.5, print_cost=False):\n",
    "    \"\"\"\n",
    "    Builds the logistic regression model by calling the function you've implemented previously\n",
    "    \n",
    "    Arguments:\n",
    "    X_train -- training set represented by a numpy array of shape (num_px * num_px * 3, m_train)\n",
    "    Y_train -- training labels represented by a numpy array (vector) of shape (1, m_train)\n",
    "    X_test -- test set represented by a numpy array of shape (num_px * num_px * 3, m_test)\n",
    "    Y_test -- test labels represented by a numpy array (vector) of shape (1, m_test)\n",
    "    num_iterations -- hyperparameter representing the number of iterations to optimize the parameters\n",
    "    learning_rate -- hyperparameter representing the learning rate used in the update rule of optimize()\n",
    "    print_cost -- Set to True to print the cost every 100 iterations\n",
    "    \n",
    "    Returns:\n",
    "    d -- dictionary containing information about the model.\n",
    "    \"\"\"\n",
    "    # (kurang lebih diperlukan 1 baris kode untuk menyelesaikan soal ini)  \n",
    "    # initialize parameters with zeros \n",
    "    # w, b = ...\n",
    "    \n",
    "    #(kurang lebih diperlukan 1 baris kode untuk menyelesaikan soal ini)\n",
    "    # Gradient descent \n",
    "    # params, grads, costs = ...\n",
    "    \n",
    "    # Retrieve parameters w and b from dictionary \"params\"\n",
    "    # w = ...\n",
    "    # b = ...\n",
    "    \n",
    "    # Predict test/train set examples (kurang lebih diperlukan 2 baris kode untuk menyelesaikan soal ini)\n",
    "    # Y_prediction_test = ...\n",
    "    # Y_prediction_train = ...\n",
    "    \n",
    "    # KODE ANDA DIMULAI SETELAH BARIS INI\n",
    "    w, b = initialize_with_zeros(X_train.shape[0])    \n",
    "    params, grads, costs = optimize(w, b, X_train, Y_train, num_iterations, learning_rate, print_cost=False)\n",
    "    w = params[\"w\"]\n",
    "    b = params[\"b\"]\n",
    "\n",
    "    Y_prediction_test = predict(w, b, X_test)\n",
    "    Y_prediction_train = predict(w, b, X_train)\n",
    "\n",
    "\n",
    "    # KODE ANDA BERAKHIR SEBELUM BARIS INI\n",
    "\n",
    "    # Print train/test Errors\n",
    "    if print_cost:\n",
    "        print(\"train accuracy: {} %\".format(100 - np.mean(np.abs(Y_prediction_train - Y_train)) * 100))\n",
    "        print(\"test accuracy: {} %\".format(100 - np.mean(np.abs(Y_prediction_test - Y_test)) * 100))\n",
    "\n",
    "    \n",
    "    d = {\"costs\": costs,\n",
    "         \"Y_prediction_test\": Y_prediction_test, \n",
    "         \"Y_prediction_train\" : Y_prediction_train, \n",
    "         \"w\" : w, \n",
    "         \"b\" : b,\n",
    "         \"learning_rate\" : learning_rate,\n",
    "         \"num_iterations\": num_iterations}\n",
    "    \n",
    "    return d"
   ]
  },
  {
   "cell_type": "code",
   "execution_count": 23,
   "metadata": {
    "deletable": false,
    "editable": false,
    "nbgrader": {
     "cell_type": "code",
     "checksum": "b468bc5ddf6ecc5c7dbcb9a02cfe0216",
     "grade": true,
     "grade_id": "cell-4170e070f3cde17e",
     "locked": true,
     "points": 10,
     "schema_version": 3,
     "solution": false,
     "task": false
    }
   },
   "outputs": [
    {
     "name": "stdout",
     "output_type": "stream",
     "text": [
      "\u001b[32mSelamat! Jawaban Anda benar\u001b[0m\n"
     ]
    }
   ],
   "source": [
    "from public_tests import *\n",
    "\n",
    "model_test(model)"
   ]
  },
  {
   "cell_type": "markdown",
   "metadata": {},
   "source": [
    "Jika Anda sudah melewati semua test, jalankan cell di bawah ini untuk melatih model Anda."
   ]
  },
  {
   "cell_type": "code",
   "execution_count": 24,
   "metadata": {},
   "outputs": [
    {
     "name": "stdout",
     "output_type": "stream",
     "text": [
      "train accuracy: 99.04306220095694 %\n",
      "test accuracy: 70.0 %\n"
     ]
    }
   ],
   "source": [
    "logistic_regression_model = model(train_set_x, train_set_y, test_set_x, test_set_y, num_iterations=2000, learning_rate=0.005, print_cost=True)"
   ]
  },
  {
   "cell_type": "markdown",
   "metadata": {},
   "source": [
    "**Komentas**: Nilai akurasi training hampir mendekati 100%. Ini adalah contoh baik kalau model yang Anda buat memiliki kemampuan untuk mempelajari training data. Test accuracy"
   ]
  },
  {
   "cell_type": "markdown",
   "metadata": {},
   "source": [
    " bernilai 70%. Sebenarnya ini bukan berarti tidak baik karena model yang kita buat hanyalah model sederhana. Kita akan membuat model classifier yang lebih baik di minggu depan!\n",
    "\n",
    "Juga, Anda melihat kalau model ini sangat jelas mengalami overfitting. Di kelas selanjutnya, nanti Anda akan mempelajari bagaimana cara mengurangi overfitting, sebagai contoh dengan menggunakan regularisasi. Gunakan kode di abwah (dengan mengganti variabel `index`) Anda dapat melihat prediksi gambar lain di dalam test set."
   ]
  },
  {
   "cell_type": "code",
   "execution_count": 25,
   "metadata": {},
   "outputs": [
    {
     "name": "stdout",
     "output_type": "stream",
     "text": [
      "y = 1, you predicted that it is a \"cat\" picture.\n"
     ]
    },
    {
     "data": {
      "image/png": "[encoded data removed]",
      "text/plain": [
       "<Figure size 432x288 with 1 Axes>"
      ]
     },
     "metadata": {
      "needs_background": "light"
     },
     "output_type": "display_data"
    }
   ],
   "source": [
    "# Example of a picture that was wrongly classified.\n",
    "index = 1\n",
    "plt.imshow(test_set_x[:, index].reshape((num_px, num_px, 3)))\n",
    "print (\"y = \" + str(test_set_y[0,index]) + \", you predicted that it is a \\\"\" + classes[int(logistic_regression_model['Y_prediction_test'][0,index])].decode(\"utf-8\") +  \"\\\" picture.\")"
   ]
  },
  {
   "cell_type": "markdown",
   "metadata": {},
   "source": [
    "Mari plot cost function dan gradiennya."
   ]
  },
  {
   "cell_type": "code",
   "execution_count": 26,
   "metadata": {},
   "outputs": [
    {
     "data": {
      "image/png": "[encoded data removed]",
      "text/plain": [
       "<Figure size 432x288 with 1 Axes>"
      ]
     },
     "metadata": {
      "needs_background": "light"
     },
     "output_type": "display_data"
    }
   ],
   "source": [
    "# Plot learning curve (with costs)\n",
    "costs = np.squeeze(logistic_regression_model['costs'])\n",
    "plt.plot(costs)\n",
    "plt.ylabel('cost')\n",
    "plt.xlabel('iterations (per hundreds)')\n",
    "plt.title(\"Learning rate =\" + str(logistic_regression_model[\"learning_rate\"]))\n",
    "plt.show()"
   ]
  },
  {
   "cell_type": "markdown",
   "metadata": {},
   "source": [
    "**Interpretasi**: \n",
    "Anda dapat melihat penurunan cost. Ini menunjukkan bahwa parameter sedang dipelajari. Namun, Anda melihat bahwa Anda dapat melatih model lebih banyak lagi di set pelatihan. Cobalah untuk meningkatkan jumlah iterasi dalam sel di atas dan jalankan kembali sel. Anda mungkin melihat bahwa akurasi set pelatihan naik, tetapi akurasi set tes turun. Ini disebut overfitting."
   ]
  }
 ],
 "metadata": {
  "kernelspec": {
   "display_name": "Python 3.10.0 64-bit",
   "language": "python",
   "name": "python3"
  },
  "language_info": {
   "codemirror_mode": {
    "name": "ipython",
    "version": 3
   },
   "file_extension": ".py",
   "mimetype": "text/x-python",
   "name": "python",
   "nbconvert_exporter": "python",
   "pygments_lexer": "ipython3",
   "version": "3.10.0"
  },
  "vscode": {
   "interpreter": {
    "hash": "8c3d4d9970fc5c09c50d9318a9c7fbf4d0159e4b28833276f5678ee22bded273"
   }
  }
 },
 "nbformat": 4,
 "nbformat_minor": 2
}
